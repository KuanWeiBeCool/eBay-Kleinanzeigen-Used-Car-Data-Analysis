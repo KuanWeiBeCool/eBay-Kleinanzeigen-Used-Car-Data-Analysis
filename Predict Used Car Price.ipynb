{
 "cells": [
  {
   "cell_type": "markdown",
   "metadata": {
    "collapsed": true
   },
   "source": [
    "# Which brand should you consider first for a used car on eBay Kleinanzeigen?\n",
    "\n",
    "Cars are well-known as having a high depreciation rate. Therefore, purchasing used car can usually be economically more favorable for many people. *eBay Kleinanzeigen* is a classfied advertising section of the German eBay website. Here I will work with [a dataset](https://www.kaggle.com/orgesleka/used-cars-database/data) which was orinigally scraped from *eBay Kleinanzeigen*, for the used car sell information. **My goal is to build a model that predicts the price of the used car**."
   ]
  },
  {
   "cell_type": "markdown",
   "metadata": {},
   "source": [
    "## Data Cleaning\n",
    "The data cleaning involves two main stages:\n",
    "\n",
    "The first stage is an overall dataset cleaning, where I will drop the unwanted data (data that is not useful for my analysis), and fill the missing data with proper values.\n",
    "\n",
    "The second stage is the cleaning for numerical columns, where I will remove outliers and redefine the boundaries of the numerical values in a reasonable way."
   ]
  },
  {
   "cell_type": "markdown",
   "metadata": {},
   "source": [
    "## Overall Dataset Cleaning"
   ]
  },
  {
   "cell_type": "code",
   "execution_count": 329,
   "metadata": {},
   "outputs": [],
   "source": [
    "import pandas as pd\n",
    "import numpy as np\n",
    "import matplotlib.pyplot as plt\n",
    "import seaborn as sns\n",
    "%matplotlib inline\n",
    "autos = pd.read_csv('autos.csv', encoding = 'Latin-1')"
   ]
  },
  {
   "cell_type": "code",
   "execution_count": 330,
   "metadata": {
    "scrolled": true
   },
   "outputs": [
    {
     "data": {
      "text/html": [
       "<div>\n",
       "<style scoped>\n",
       "    .dataframe tbody tr th:only-of-type {\n",
       "        vertical-align: middle;\n",
       "    }\n",
       "\n",
       "    .dataframe tbody tr th {\n",
       "        vertical-align: top;\n",
       "    }\n",
       "\n",
       "    .dataframe thead th {\n",
       "        text-align: right;\n",
       "    }\n",
       "</style>\n",
       "<table border=\"1\" class=\"dataframe\">\n",
       "  <thead>\n",
       "    <tr style=\"text-align: right;\">\n",
       "      <th></th>\n",
       "      <th>dateCrawled</th>\n",
       "      <th>name</th>\n",
       "      <th>seller</th>\n",
       "      <th>offerType</th>\n",
       "      <th>price</th>\n",
       "      <th>abtest</th>\n",
       "      <th>vehicleType</th>\n",
       "      <th>yearOfRegistration</th>\n",
       "      <th>gearbox</th>\n",
       "      <th>powerPS</th>\n",
       "      <th>model</th>\n",
       "      <th>kilometer</th>\n",
       "      <th>monthOfRegistration</th>\n",
       "      <th>fuelType</th>\n",
       "      <th>brand</th>\n",
       "      <th>notRepairedDamage</th>\n",
       "      <th>dateCreated</th>\n",
       "      <th>nrOfPictures</th>\n",
       "      <th>postalCode</th>\n",
       "      <th>lastSeen</th>\n",
       "    </tr>\n",
       "  </thead>\n",
       "  <tbody>\n",
       "    <tr>\n",
       "      <td>0</td>\n",
       "      <td>2016-03-24 11:52:17</td>\n",
       "      <td>Golf_3_1.6</td>\n",
       "      <td>privat</td>\n",
       "      <td>Angebot</td>\n",
       "      <td>480</td>\n",
       "      <td>test</td>\n",
       "      <td>NaN</td>\n",
       "      <td>1993</td>\n",
       "      <td>manuell</td>\n",
       "      <td>0</td>\n",
       "      <td>golf</td>\n",
       "      <td>150000</td>\n",
       "      <td>0</td>\n",
       "      <td>benzin</td>\n",
       "      <td>volkswagen</td>\n",
       "      <td>NaN</td>\n",
       "      <td>2016-03-24 00:00:00</td>\n",
       "      <td>0</td>\n",
       "      <td>70435</td>\n",
       "      <td>2016-04-07 03:16:57</td>\n",
       "    </tr>\n",
       "    <tr>\n",
       "      <td>1</td>\n",
       "      <td>2016-03-24 10:58:45</td>\n",
       "      <td>A5_Sportback_2.7_Tdi</td>\n",
       "      <td>privat</td>\n",
       "      <td>Angebot</td>\n",
       "      <td>18300</td>\n",
       "      <td>test</td>\n",
       "      <td>coupe</td>\n",
       "      <td>2011</td>\n",
       "      <td>manuell</td>\n",
       "      <td>190</td>\n",
       "      <td>NaN</td>\n",
       "      <td>125000</td>\n",
       "      <td>5</td>\n",
       "      <td>diesel</td>\n",
       "      <td>audi</td>\n",
       "      <td>ja</td>\n",
       "      <td>2016-03-24 00:00:00</td>\n",
       "      <td>0</td>\n",
       "      <td>66954</td>\n",
       "      <td>2016-04-07 01:46:50</td>\n",
       "    </tr>\n",
       "    <tr>\n",
       "      <td>2</td>\n",
       "      <td>2016-03-14 12:52:21</td>\n",
       "      <td>Jeep_Grand_Cherokee_\"Overland\"</td>\n",
       "      <td>privat</td>\n",
       "      <td>Angebot</td>\n",
       "      <td>9800</td>\n",
       "      <td>test</td>\n",
       "      <td>suv</td>\n",
       "      <td>2004</td>\n",
       "      <td>automatik</td>\n",
       "      <td>163</td>\n",
       "      <td>grand</td>\n",
       "      <td>125000</td>\n",
       "      <td>8</td>\n",
       "      <td>diesel</td>\n",
       "      <td>jeep</td>\n",
       "      <td>NaN</td>\n",
       "      <td>2016-03-14 00:00:00</td>\n",
       "      <td>0</td>\n",
       "      <td>90480</td>\n",
       "      <td>2016-04-05 12:47:46</td>\n",
       "    </tr>\n",
       "    <tr>\n",
       "      <td>3</td>\n",
       "      <td>2016-03-17 16:54:04</td>\n",
       "      <td>GOLF_4_1_4__3TÜRER</td>\n",
       "      <td>privat</td>\n",
       "      <td>Angebot</td>\n",
       "      <td>1500</td>\n",
       "      <td>test</td>\n",
       "      <td>kleinwagen</td>\n",
       "      <td>2001</td>\n",
       "      <td>manuell</td>\n",
       "      <td>75</td>\n",
       "      <td>golf</td>\n",
       "      <td>150000</td>\n",
       "      <td>6</td>\n",
       "      <td>benzin</td>\n",
       "      <td>volkswagen</td>\n",
       "      <td>nein</td>\n",
       "      <td>2016-03-17 00:00:00</td>\n",
       "      <td>0</td>\n",
       "      <td>91074</td>\n",
       "      <td>2016-03-17 17:40:17</td>\n",
       "    </tr>\n",
       "    <tr>\n",
       "      <td>4</td>\n",
       "      <td>2016-03-31 17:25:20</td>\n",
       "      <td>Skoda_Fabia_1.4_TDI_PD_Classic</td>\n",
       "      <td>privat</td>\n",
       "      <td>Angebot</td>\n",
       "      <td>3600</td>\n",
       "      <td>test</td>\n",
       "      <td>kleinwagen</td>\n",
       "      <td>2008</td>\n",
       "      <td>manuell</td>\n",
       "      <td>69</td>\n",
       "      <td>fabia</td>\n",
       "      <td>90000</td>\n",
       "      <td>7</td>\n",
       "      <td>diesel</td>\n",
       "      <td>skoda</td>\n",
       "      <td>nein</td>\n",
       "      <td>2016-03-31 00:00:00</td>\n",
       "      <td>0</td>\n",
       "      <td>60437</td>\n",
       "      <td>2016-04-06 10:17:21</td>\n",
       "    </tr>\n",
       "  </tbody>\n",
       "</table>\n",
       "</div>"
      ],
      "text/plain": [
       "           dateCrawled                            name  seller offerType  \\\n",
       "0  2016-03-24 11:52:17                      Golf_3_1.6  privat   Angebot   \n",
       "1  2016-03-24 10:58:45            A5_Sportback_2.7_Tdi  privat   Angebot   \n",
       "2  2016-03-14 12:52:21  Jeep_Grand_Cherokee_\"Overland\"  privat   Angebot   \n",
       "3  2016-03-17 16:54:04              GOLF_4_1_4__3TÜRER  privat   Angebot   \n",
       "4  2016-03-31 17:25:20  Skoda_Fabia_1.4_TDI_PD_Classic  privat   Angebot   \n",
       "\n",
       "   price abtest vehicleType  yearOfRegistration    gearbox  powerPS  model  \\\n",
       "0    480   test         NaN                1993    manuell        0   golf   \n",
       "1  18300   test       coupe                2011    manuell      190    NaN   \n",
       "2   9800   test         suv                2004  automatik      163  grand   \n",
       "3   1500   test  kleinwagen                2001    manuell       75   golf   \n",
       "4   3600   test  kleinwagen                2008    manuell       69  fabia   \n",
       "\n",
       "   kilometer  monthOfRegistration fuelType       brand notRepairedDamage  \\\n",
       "0     150000                    0   benzin  volkswagen               NaN   \n",
       "1     125000                    5   diesel        audi                ja   \n",
       "2     125000                    8   diesel        jeep               NaN   \n",
       "3     150000                    6   benzin  volkswagen              nein   \n",
       "4      90000                    7   diesel       skoda              nein   \n",
       "\n",
       "           dateCreated  nrOfPictures  postalCode             lastSeen  \n",
       "0  2016-03-24 00:00:00             0       70435  2016-04-07 03:16:57  \n",
       "1  2016-03-24 00:00:00             0       66954  2016-04-07 01:46:50  \n",
       "2  2016-03-14 00:00:00             0       90480  2016-04-05 12:47:46  \n",
       "3  2016-03-17 00:00:00             0       91074  2016-03-17 17:40:17  \n",
       "4  2016-03-31 00:00:00             0       60437  2016-04-06 10:17:21  "
      ]
     },
     "execution_count": 330,
     "metadata": {},
     "output_type": "execute_result"
    }
   ],
   "source": [
    "autos.head()"
   ]
  },
  {
   "cell_type": "markdown",
   "metadata": {},
   "source": [
    "It can be noticed that the dataset uses camelcase in column name intead of the conventional snakecase in Python. To make my later analysis easier, I am going to change all the column names into snakecase."
   ]
  },
  {
   "cell_type": "code",
   "execution_count": 331,
   "metadata": {
    "scrolled": false
   },
   "outputs": [],
   "source": [
    "# Change column names\n",
    "autos.columns = ['date_crawled','name','seller','offer_type','price','abtest','vehicle_type','registration_year','gearbox','power_ps','model','kilometer','registration_month','fuel_type','brand','unrepaired_damage','date_created','n_of_pictures','postal_code','date_last_seen']"
   ]
  },
  {
   "cell_type": "markdown",
   "metadata": {},
   "source": [
    "As we are trying to predict the used car price, *name*, *date_crawled* (date in which the data was obtained), *date_created* (date in which the advertisement was created) , *postal_code*, *date_last_seen*(date in which the advertisement was seen last), and *n_of_pictures* columns should not be very useful, as they are not relevant to the cars' properties. So let's drop these columns."
   ]
  },
  {
   "cell_type": "code",
   "execution_count": 332,
   "metadata": {},
   "outputs": [],
   "source": [
    "autos = autos.drop(columns = ['name', 'date_crawled', 'date_created', 'postal_code', 'date_last_seen', 'n_of_pictures'])"
   ]
  },
  {
   "cell_type": "markdown",
   "metadata": {},
   "source": [
    "## Missing Values And Duplicates"
   ]
  },
  {
   "cell_type": "code",
   "execution_count": 333,
   "metadata": {
    "scrolled": true
   },
   "outputs": [
    {
     "name": "stdout",
     "output_type": "stream",
     "text": [
      "<class 'pandas.core.frame.DataFrame'>\n",
      "RangeIndex: 371528 entries, 0 to 371527\n",
      "Data columns (total 14 columns):\n",
      "seller                371528 non-null object\n",
      "offer_type            371528 non-null object\n",
      "price                 371528 non-null int64\n",
      "abtest                371528 non-null object\n",
      "vehicle_type          333659 non-null object\n",
      "registration_year     371528 non-null int64\n",
      "gearbox               351319 non-null object\n",
      "power_ps              371528 non-null int64\n",
      "model                 351044 non-null object\n",
      "kilometer             371528 non-null int64\n",
      "registration_month    371528 non-null int64\n",
      "fuel_type             338142 non-null object\n",
      "brand                 371528 non-null object\n",
      "unrepaired_damage     299468 non-null object\n",
      "dtypes: int64(5), object(9)\n",
      "memory usage: 39.7+ MB\n"
     ]
    }
   ],
   "source": [
    "autos.info()"
   ]
  },
  {
   "cell_type": "markdown",
   "metadata": {},
   "source": [
    "We can also notice that the following columns contain missing values:\n",
    "- vehicle_type\n",
    "- gearbox\n",
    "- model\n",
    "- fuel_type\n",
    "- unrepaired_damage\n",
    "\n",
    "These are categorical data, so we can either fill the missing values with the most frequent values, or directly drop them. Let's take a closer look at each column."
   ]
  },
  {
   "cell_type": "markdown",
   "metadata": {},
   "source": [
    "### Vehicle Type"
   ]
  },
  {
   "cell_type": "code",
   "execution_count": 327,
   "metadata": {},
   "outputs": [
    {
     "data": {
      "image/png": "[encoded data removed]",
      "text/plain": [
       "<Figure size 648x432 with 1 Axes>"
      ]
     },
     "metadata": {},
     "output_type": "display_data"
    }
   ],
   "source": [
    "fig = plt.figure(figsize=(9, 6))\n",
    "sns.set(style=\"darkgrid\")\n",
    "sns.countplot(x='vehicle_type', data=autos)\n",
    "plt.show()"
   ]
  },
  {
   "cell_type": "markdown",
   "metadata": {},
   "source": [
    "As can be seen from the figure, limousine has the highest counts compared to others. **We can fill all missing values by using \"limousine\". However, I noticed that *brand* column does not have any missing values. So we can actually fill the missing vehicle types of a brand by the most frequent vehicle type in the same brand.** This should be more accurate as compared to simply filling all missing values with one value. For example, car brand like Jeep will more likely to have \"SUV\" as the most frequent vehicle type as compared to \"limousine\". Let's find the most frequent vehicle type in each brand:"
   ]
  },
  {
   "cell_type": "code",
   "execution_count": 346,
   "metadata": {},
   "outputs": [],
   "source": [
    "unique_brands = autos.brand.unique()\n",
    "match = {}\n",
    "\n",
    "for brand in unique_brands:\n",
    "    match[brand] = autos.loc[autos.brand==brand, 'vehicle_type'].value_counts(ascending=False).index[0]\n",
    "for brand in unique_brands:\n",
    "    autos.loc[autos.brand==brand, 'vehicle_type'] = autos.loc[autos.brand==brand, 'vehicle_type'].fillna(value=match[brand])"
   ]
  },
  {
   "cell_type": "code",
   "execution_count": 347,
   "metadata": {
    "scrolled": true
   },
   "outputs": [
    {
     "data": {
      "text/plain": [
       "{'volkswagen': 'limousine',\n",
       " 'audi': 'limousine',\n",
       " 'jeep': 'suv',\n",
       " 'skoda': 'kombi',\n",
       " 'bmw': 'limousine',\n",
       " 'peugeot': 'kleinwagen',\n",
       " 'ford': 'kleinwagen',\n",
       " 'mazda': 'limousine',\n",
       " 'nissan': 'kleinwagen',\n",
       " 'renault': 'kleinwagen',\n",
       " 'mercedes_benz': 'limousine',\n",
       " 'opel': 'kleinwagen',\n",
       " 'seat': 'kleinwagen',\n",
       " 'citroen': 'kleinwagen',\n",
       " 'honda': 'limousine',\n",
       " 'fiat': 'kleinwagen',\n",
       " 'mini': 'kleinwagen',\n",
       " 'smart': 'kleinwagen',\n",
       " 'hyundai': 'kleinwagen',\n",
       " 'sonstige_autos': 'limousine',\n",
       " 'alfa_romeo': 'limousine',\n",
       " 'subaru': 'kombi',\n",
       " 'volvo': 'kombi',\n",
       " 'mitsubishi': 'limousine',\n",
       " 'kia': 'suv',\n",
       " 'suzuki': 'kleinwagen',\n",
       " 'lancia': 'kleinwagen',\n",
       " 'porsche': 'cabrio',\n",
       " 'toyota': 'kleinwagen',\n",
       " 'chevrolet': 'kleinwagen',\n",
       " 'dacia': 'kombi',\n",
       " 'daihatsu': 'kleinwagen',\n",
       " 'trabant': 'limousine',\n",
       " 'saab': 'limousine',\n",
       " 'chrysler': 'bus',\n",
       " 'jaguar': 'limousine',\n",
       " 'daewoo': 'kleinwagen',\n",
       " 'rover': 'limousine',\n",
       " 'land_rover': 'suv',\n",
       " 'lada': 'suv'}"
      ]
     },
     "execution_count": 347,
     "metadata": {},
     "output_type": "execute_result"
    }
   ],
   "source": [
    "match"
   ]
  },
  {
   "cell_type": "markdown",
   "metadata": {},
   "source": [
    "As expected, some companies such as Jeep and Land Rover have \"SUV\" as the most frequent vehicle type instead of \"limousine\"."
   ]
  },
  {
   "cell_type": "markdown",
   "metadata": {},
   "source": [
    "### Gearbox\n",
    "Let's use the same principle to fill the missing values for *gearbox* column."
   ]
  },
  {
   "cell_type": "code",
   "execution_count": 348,
   "metadata": {},
   "outputs": [],
   "source": [
    "unique_brands = autos.brand.unique()\n",
    "match = {}\n",
    "\n",
    "for brand in unique_brands:\n",
    "    match[brand] = autos.loc[autos.brand==brand, 'gearbox'].value_counts(ascending=False).index[0]\n",
    "for brand in unique_brands:\n",
    "    autos.loc[autos.brand==brand, 'gearbox'] = autos.loc[autos.brand==brand, 'gearbox'].fillna(value=match[brand])"
   ]
  },
  {
   "cell_type": "code",
   "execution_count": 349,
   "metadata": {
    "scrolled": true
   },
   "outputs": [
    {
     "data": {
      "image/png": "[encoded data removed]",
      "text/plain": [
       "<Figure size 288x360 with 1 Axes>"
      ]
     },
     "metadata": {
      "needs_background": "light"
     },
     "output_type": "display_data"
    }
   ],
   "source": [
    "fig = plt.figure(figsize=(4, 5))\n",
    "sns.countplot(x='gearbox', data=autos)\n",
    "plt.show()"
   ]
  },
  {
   "cell_type": "code",
   "execution_count": 350,
   "metadata": {},
   "outputs": [
    {
     "data": {
      "text/plain": [
       "{'volkswagen': 'manuell',\n",
       " 'audi': 'manuell',\n",
       " 'jeep': 'automatik',\n",
       " 'skoda': 'manuell',\n",
       " 'bmw': 'manuell',\n",
       " 'peugeot': 'manuell',\n",
       " 'ford': 'manuell',\n",
       " 'mazda': 'manuell',\n",
       " 'nissan': 'manuell',\n",
       " 'renault': 'manuell',\n",
       " 'mercedes_benz': 'automatik',\n",
       " 'opel': 'manuell',\n",
       " 'seat': 'manuell',\n",
       " 'citroen': 'manuell',\n",
       " 'honda': 'manuell',\n",
       " 'fiat': 'manuell',\n",
       " 'mini': 'manuell',\n",
       " 'smart': 'automatik',\n",
       " 'hyundai': 'manuell',\n",
       " 'sonstige_autos': 'manuell',\n",
       " 'alfa_romeo': 'manuell',\n",
       " 'subaru': 'manuell',\n",
       " 'volvo': 'manuell',\n",
       " 'mitsubishi': 'manuell',\n",
       " 'kia': 'manuell',\n",
       " 'suzuki': 'manuell',\n",
       " 'lancia': 'manuell',\n",
       " 'porsche': 'manuell',\n",
       " 'toyota': 'manuell',\n",
       " 'chevrolet': 'manuell',\n",
       " 'dacia': 'manuell',\n",
       " 'daihatsu': 'manuell',\n",
       " 'trabant': 'manuell',\n",
       " 'saab': 'manuell',\n",
       " 'chrysler': 'automatik',\n",
       " 'jaguar': 'automatik',\n",
       " 'daewoo': 'manuell',\n",
       " 'rover': 'manuell',\n",
       " 'land_rover': 'manuell',\n",
       " 'lada': 'manuell'}"
      ]
     },
     "execution_count": 350,
     "metadata": {},
     "output_type": "execute_result"
    }
   ],
   "source": [
    "match"
   ]
  },
  {
   "cell_type": "markdown",
   "metadata": {},
   "source": [
    "Again, we can see that even though \"manuell\" (manual) has much higher counts compared to \"automatik\" (automatic), some companies such as Mercedes Benz and Smart do have higher counts in automatic. "
   ]
  },
  {
   "cell_type": "markdown",
   "metadata": {},
   "source": [
    "### Model"
   ]
  },
  {
   "cell_type": "code",
   "execution_count": 352,
   "metadata": {},
   "outputs": [
    {
     "data": {
      "image/png": "[encoded data removed]",
      "text/plain": [
       "<Figure size 864x432 with 1 Axes>"
      ]
     },
     "metadata": {
      "needs_background": "light"
     },
     "output_type": "display_data"
    }
   ],
   "source": [
    "fig = plt.figure(figsize=(12, 6))\n",
    "sns.countplot(x='model', data=autos)\n",
    "plt.show()"
   ]
  },
  {
   "cell_type": "markdown",
   "metadata": {},
   "source": [
    "Our plot cannot fit all models' name on the x-axis. This is because every brand has their own models, and there are too many different models in the dataset. Models are too specific for our price-prediction purpose, so I just drop this column."
   ]
  },
  {
   "cell_type": "code",
   "execution_count": 353,
   "metadata": {},
   "outputs": [],
   "source": [
    "autos = autos.drop(columns=['model'])"
   ]
  },
  {
   "cell_type": "markdown",
   "metadata": {},
   "source": [
    "#### Fuel Type\n",
    "Similarly, let's fill the fuel type missing values by the most frequent value in each brand."
   ]
  },
  {
   "cell_type": "code",
   "execution_count": 354,
   "metadata": {},
   "outputs": [],
   "source": [
    "unique_brands = autos.brand.unique()\n",
    "match = {}\n",
    "\n",
    "for brand in unique_brands:\n",
    "    match[brand] = autos.loc[autos.brand==brand, 'fuel_type'].value_counts(ascending=False).index[0]\n",
    "for brand in unique_brands:\n",
    "    autos.loc[autos.brand==brand, 'fuel_type'] = autos.loc[autos.brand==brand, 'fuel_type'].fillna(value=match[brand])"
   ]
  },
  {
   "cell_type": "markdown",
   "metadata": {},
   "source": [
    "### Unrepaired Damage\n",
    "Unrepaired damage should not be specific to brands. So let's just fill the missing values by the most frequent value. In this case, it'll be \"nein\" (No). Also, it is more likely that people did not fill this section because there was no unrepaired damage."
   ]
  },
  {
   "cell_type": "code",
   "execution_count": 356,
   "metadata": {},
   "outputs": [
    {
     "data": {
      "image/png": "[encoded data removed]",
      "text/plain": [
       "<Figure size 288x288 with 1 Axes>"
      ]
     },
     "metadata": {
      "needs_background": "light"
     },
     "output_type": "display_data"
    }
   ],
   "source": [
    "fig = plt.figure(figsize=(4, 4))\n",
    "sns.countplot(x='unrepaired_damage', data=autos)\n",
    "plt.show()"
   ]
  },
  {
   "cell_type": "code",
   "execution_count": 357,
   "metadata": {},
   "outputs": [],
   "source": [
    "autos['unrepaired_damage'] = autos['unrepaired_damage'].fillna(value='nein')"
   ]
  },
  {
   "cell_type": "code",
   "execution_count": 358,
   "metadata": {},
   "outputs": [
    {
     "name": "stdout",
     "output_type": "stream",
     "text": [
      "<class 'pandas.core.frame.DataFrame'>\n",
      "RangeIndex: 371528 entries, 0 to 371527\n",
      "Data columns (total 13 columns):\n",
      "seller                371528 non-null object\n",
      "offer_type            371528 non-null object\n",
      "price                 371528 non-null int64\n",
      "abtest                371528 non-null object\n",
      "vehicle_type          371528 non-null object\n",
      "registration_year     371528 non-null int64\n",
      "gearbox               371528 non-null object\n",
      "power_ps              371528 non-null int64\n",
      "kilometer             371528 non-null int64\n",
      "registration_month    371528 non-null int64\n",
      "fuel_type             371528 non-null object\n",
      "brand                 371528 non-null object\n",
      "unrepaired_damage     371528 non-null object\n",
      "dtypes: int64(5), object(8)\n",
      "memory usage: 36.8+ MB\n"
     ]
    }
   ],
   "source": [
    "autos.info()"
   ]
  },
  {
   "cell_type": "markdown",
   "metadata": {},
   "source": [
    "### Duplicates\n",
    "Let's now check if there is any duplicates:"
   ]
  },
  {
   "cell_type": "code",
   "execution_count": 359,
   "metadata": {},
   "outputs": [
    {
     "data": {
      "text/plain": [
       "False    347226\n",
       "True      24302\n",
       "dtype: int64"
      ]
     },
     "execution_count": 359,
     "metadata": {},
     "output_type": "execute_result"
    }
   ],
   "source": [
    "autos.duplicated().value_counts()"
   ]
  },
  {
   "cell_type": "markdown",
   "metadata": {},
   "source": [
    "We have 24302 duplicated values. Let's remove them."
   ]
  },
  {
   "cell_type": "code",
   "execution_count": 360,
   "metadata": {},
   "outputs": [],
   "source": [
    "autos = autos.drop_duplicates()"
   ]
  },
  {
   "cell_type": "markdown",
   "metadata": {},
   "source": [
    "## Numerical Column Cleaning"
   ]
  },
  {
   "cell_type": "markdown",
   "metadata": {},
   "source": [
    "We have cleaned the missing values and dropped the duplicates. Now let's check if there is any further cleaning required for the numerical columns:"
   ]
  },
  {
   "cell_type": "code",
   "execution_count": 362,
   "metadata": {},
   "outputs": [
    {
     "data": {
      "text/html": [
       "<div>\n",
       "<style scoped>\n",
       "    .dataframe tbody tr th:only-of-type {\n",
       "        vertical-align: middle;\n",
       "    }\n",
       "\n",
       "    .dataframe tbody tr th {\n",
       "        vertical-align: top;\n",
       "    }\n",
       "\n",
       "    .dataframe thead th {\n",
       "        text-align: right;\n",
       "    }\n",
       "</style>\n",
       "<table border=\"1\" class=\"dataframe\">\n",
       "  <thead>\n",
       "    <tr style=\"text-align: right;\">\n",
       "      <th></th>\n",
       "      <th>price</th>\n",
       "      <th>registration_year</th>\n",
       "      <th>power_ps</th>\n",
       "      <th>kilometer</th>\n",
       "      <th>registration_month</th>\n",
       "    </tr>\n",
       "  </thead>\n",
       "  <tbody>\n",
       "    <tr>\n",
       "      <td>count</td>\n",
       "      <td>3.472260e+05</td>\n",
       "      <td>347226.000000</td>\n",
       "      <td>347226.000000</td>\n",
       "      <td>347226.000000</td>\n",
       "      <td>347226.000000</td>\n",
       "    </tr>\n",
       "    <tr>\n",
       "      <td>mean</td>\n",
       "      <td>1.816012e+04</td>\n",
       "      <td>2004.609341</td>\n",
       "      <td>116.381832</td>\n",
       "      <td>125417.753855</td>\n",
       "      <td>5.744627</td>\n",
       "    </tr>\n",
       "    <tr>\n",
       "      <td>std</td>\n",
       "      <td>3.711387e+06</td>\n",
       "      <td>94.528902</td>\n",
       "      <td>197.822106</td>\n",
       "      <td>40202.422787</td>\n",
       "      <td>3.700059</td>\n",
       "    </tr>\n",
       "    <tr>\n",
       "      <td>min</td>\n",
       "      <td>0.000000e+00</td>\n",
       "      <td>1000.000000</td>\n",
       "      <td>0.000000</td>\n",
       "      <td>5000.000000</td>\n",
       "      <td>0.000000</td>\n",
       "    </tr>\n",
       "    <tr>\n",
       "      <td>25%</td>\n",
       "      <td>1.150000e+03</td>\n",
       "      <td>1999.000000</td>\n",
       "      <td>71.000000</td>\n",
       "      <td>100000.000000</td>\n",
       "      <td>3.000000</td>\n",
       "    </tr>\n",
       "    <tr>\n",
       "      <td>50%</td>\n",
       "      <td>2.990000e+03</td>\n",
       "      <td>2003.000000</td>\n",
       "      <td>105.000000</td>\n",
       "      <td>150000.000000</td>\n",
       "      <td>6.000000</td>\n",
       "    </tr>\n",
       "    <tr>\n",
       "      <td>75%</td>\n",
       "      <td>7.250000e+03</td>\n",
       "      <td>2008.000000</td>\n",
       "      <td>150.000000</td>\n",
       "      <td>150000.000000</td>\n",
       "      <td>9.000000</td>\n",
       "    </tr>\n",
       "    <tr>\n",
       "      <td>max</td>\n",
       "      <td>2.147484e+09</td>\n",
       "      <td>9999.000000</td>\n",
       "      <td>20000.000000</td>\n",
       "      <td>150000.000000</td>\n",
       "      <td>12.000000</td>\n",
       "    </tr>\n",
       "  </tbody>\n",
       "</table>\n",
       "</div>"
      ],
      "text/plain": [
       "              price  registration_year       power_ps      kilometer  \\\n",
       "count  3.472260e+05      347226.000000  347226.000000  347226.000000   \n",
       "mean   1.816012e+04        2004.609341     116.381832  125417.753855   \n",
       "std    3.711387e+06          94.528902     197.822106   40202.422787   \n",
       "min    0.000000e+00        1000.000000       0.000000    5000.000000   \n",
       "25%    1.150000e+03        1999.000000      71.000000  100000.000000   \n",
       "50%    2.990000e+03        2003.000000     105.000000  150000.000000   \n",
       "75%    7.250000e+03        2008.000000     150.000000  150000.000000   \n",
       "max    2.147484e+09        9999.000000   20000.000000  150000.000000   \n",
       "\n",
       "       registration_month  \n",
       "count       347226.000000  \n",
       "mean             5.744627  \n",
       "std              3.700059  \n",
       "min              0.000000  \n",
       "25%              3.000000  \n",
       "50%              6.000000  \n",
       "75%              9.000000  \n",
       "max             12.000000  "
      ]
     },
     "execution_count": 362,
     "metadata": {},
     "output_type": "execute_result"
    }
   ],
   "source": [
    "autos.describe()"
   ]
  },
  {
   "cell_type": "markdown",
   "metadata": {},
   "source": [
    "Several interesting points can be noticed:\n",
    "- *price_dollar* column has a max price at 2.14e9 dollars, and a min price at 0 dollar. These are definitely not normal.\n",
    "- *registration_year* column has a max year of 9999, and a min year of 1000. These also do not make sense.\n",
    "- *power_ps* column also has unusual min and max values.\n",
    "\n",
    "Let's investigae the above three abnormal columns in more details."
   ]
  },
  {
   "cell_type": "markdown",
   "metadata": {},
   "source": [
    "### Price"
   ]
  },
  {
   "cell_type": "code",
   "execution_count": 363,
   "metadata": {},
   "outputs": [
    {
     "data": {
      "image/png": "[encoded data removed]",
      "text/plain": [
       "<Figure size 432x288 with 1 Axes>"
      ]
     },
     "metadata": {
      "needs_background": "light"
     },
     "output_type": "display_data"
    }
   ],
   "source": [
    "ax = sns.distplot(autos['price'], kde=False, rug=True)\n",
    "ax.set_ylabel('Frequency')\n",
    "plt.show()"
   ]
  },
  {
   "cell_type": "markdown",
   "metadata": {},
   "source": [
    "The long thick bar indicates the frequency of the prices, while the short thin bars indicate where the prices locate at. As can be seen from the graph, several prices are way above \\\\$100,000 and caused the histogram compressed and we are unable to see any distribution from the graph. These large prices are likely outliers. Let's take a closer look at the statistics of the column:"
   ]
  },
  {
   "cell_type": "code",
   "execution_count": 364,
   "metadata": {},
   "outputs": [
    {
     "data": {
      "text/plain": [
       "count    3.472260e+05\n",
       "mean     1.816012e+04\n",
       "std      3.711387e+06\n",
       "min      0.000000e+00\n",
       "25%      1.150000e+03\n",
       "50%      2.990000e+03\n",
       "75%      7.250000e+03\n",
       "max      2.147484e+09\n",
       "Name: price, dtype: float64"
      ]
     },
     "execution_count": 364,
     "metadata": {},
     "output_type": "execute_result"
    }
   ],
   "source": [
    "autos['price'].describe()"
   ]
  },
  {
   "cell_type": "markdown",
   "metadata": {
    "collapsed": true
   },
   "source": [
    "It is noticed that the min price is 0 dollar, and the max price is 2.14e9 dollars. It is not normal to sell a car with a price of 0 dollar or higher than 500,000 dollars (the most luxurious cars in the world, like [Rolls Royce Phantom](https://www.rolls-roycemotorcars.com/en_GB/showroom/phantom.html) have price of 500,000 dollars. and the price is for brand new cars!). So, I need to set a proper price range for my analysis.\n",
    "\n",
    "First, let's find the [interquartile range](https://en.wikipedia.org/wiki/Interquartile_range) (the difference between the third quartile and the first quartile). Based on the description above, the first quartile is 1150 dollars, and the third quartile is 7200 dollars."
   ]
  },
  {
   "cell_type": "code",
   "execution_count": 365,
   "metadata": {
    "scrolled": true
   },
   "outputs": [],
   "source": [
    "# Find the interquartile range\n",
    "interq_price = 7250 - 1150"
   ]
  },
  {
   "cell_type": "markdown",
   "metadata": {},
   "source": [
    "The [major outliers](https://en.wikipedia.org/wiki/Outlier) are outside of the \"outer fences\". The upper bound of the \"outer fences\" is three interquartile range above the third quartile; the lower bound of the \"outer fences\" is three interquartile range below the first quartile."
   ]
  },
  {
   "cell_type": "code",
   "execution_count": 366,
   "metadata": {},
   "outputs": [
    {
     "name": "stdout",
     "output_type": "stream",
     "text": [
      "The upper bound is 25500\n",
      "The lower bound is -17150\n"
     ]
    }
   ],
   "source": [
    "# Find the outer fences\n",
    "up_price = 7200 + 3 * interq_price\n",
    "low_price = 1150 - 3 * interq_price\n",
    "print(\"The upper bound is {num}\".format(num=up_price))\n",
    "print(\"The lower bound is {num}\".format(num=low_price))"
   ]
  },
  {
   "cell_type": "markdown",
   "metadata": {},
   "source": [
    "The lower bound of the \"outer fences\" does not make sense as it is a negative value. However, essentially it indicates that all values below the first quartile is not considered outlier. Still, based on the common sense, nobody should sell a call with 0 dollar. So I take all values between 0 dollar and 25667 dollars, excluding 0 dollar for my analysis."
   ]
  },
  {
   "cell_type": "code",
   "execution_count": 367,
   "metadata": {},
   "outputs": [],
   "source": [
    "autos = autos.loc[autos['price'].between(0.1, 25550)]"
   ]
  },
  {
   "cell_type": "markdown",
   "metadata": {},
   "source": [
    "Let's see how the price distribution looks like now."
   ]
  },
  {
   "cell_type": "code",
   "execution_count": 368,
   "metadata": {},
   "outputs": [
    {
     "data": {
      "image/png": "[encoded data removed]",
      "text/plain": [
       "<Figure size 432x288 with 1 Axes>"
      ]
     },
     "metadata": {
      "needs_background": "light"
     },
     "output_type": "display_data"
    }
   ],
   "source": [
    "ax = sns.distplot(autos['price'])\n",
    "ax.set_ylabel('Density')\n",
    "plt.show()"
   ]
  },
  {
   "cell_type": "markdown",
   "metadata": {},
   "source": [
    "The graph now looks much better as we can clearly see the distribution of the prices. Even though it is not perfectly normal distributed, it has been greatly improved. The right-skew is caused by a small number of expensive cars that are over \\\\$15000. However, since prices of above $15000 for cars are reasonable, I do not want to further remove the data."
   ]
  },
  {
   "cell_type": "markdown",
   "metadata": {},
   "source": [
    "### Kilometer"
   ]
  },
  {
   "cell_type": "markdown",
   "metadata": {},
   "source": [
    "Now, let's examine the *kilometer* column."
   ]
  },
  {
   "cell_type": "code",
   "execution_count": 369,
   "metadata": {},
   "outputs": [
    {
     "data": {
      "image/png": "[encoded data removed]",
      "text/plain": [
       "<Figure size 432x288 with 1 Axes>"
      ]
     },
     "metadata": {
      "needs_background": "light"
     },
     "output_type": "display_data"
    }
   ],
   "source": [
    "ax = sns.distplot(autos['kilometer'])\n",
    "ax.set_ylabel('Density')\n",
    "plt.show()"
   ]
  },
  {
   "cell_type": "markdown",
   "metadata": {},
   "source": [
    "The graph above tells us that the values in *kilometer* column are discrete, with most of the values at around 150,000 km. As every car should have different odometer reading, the discontinuous odometer reading indicates that the values are recorded by estimations. For example, it is possible that all odometer readings that are between 125,000 km and 150,000 km are recorded as 125,000 km. What is more interesting, how come no car has odometer reading above 150,000 km? To figure out the reason, let's take a closer look at the column data."
   ]
  },
  {
   "cell_type": "code",
   "execution_count": 370,
   "metadata": {},
   "outputs": [
    {
     "data": {
      "text/plain": [
       "count    328662.000000\n",
       "mean     127169.143375\n",
       "std       38473.327789\n",
       "min        5000.000000\n",
       "25%      125000.000000\n",
       "50%      150000.000000\n",
       "75%      150000.000000\n",
       "max      150000.000000\n",
       "Name: kilometer, dtype: float64"
      ]
     },
     "execution_count": 370,
     "metadata": {},
     "output_type": "execute_result"
    }
   ],
   "source": [
    "autos['kilometer'].describe()"
   ]
  },
  {
   "cell_type": "markdown",
   "metadata": {},
   "source": [
    "It is oberserved that the median value is equal to the max value, which means that over half of cars have odometer equal to 150,000 km. It is rare to see most of the cars having exactly the same odometer. I can think of two potential explainations: \n",
    "1. The cars with higher than 150,000 km are not included in the data set.\n",
    "2. The odometers higher than 150,000 km are considered as 150,000 km."
   ]
  },
  {
   "cell_type": "markdown",
   "metadata": {},
   "source": [
    "### Registration Year"
   ]
  },
  {
   "cell_type": "code",
   "execution_count": 371,
   "metadata": {},
   "outputs": [
    {
     "data": {
      "image/png": "[encoded data removed]",
      "text/plain": [
       "<Figure size 432x288 with 1 Axes>"
      ]
     },
     "metadata": {
      "needs_background": "light"
     },
     "output_type": "display_data"
    }
   ],
   "source": [
    "ax = sns.distplot(autos['registration_year'], kde=False, rug=True)\n",
    "ax.set_ylabel('Density')\n",
    "plt.show()"
   ]
  },
  {
   "cell_type": "markdown",
   "metadata": {},
   "source": [
    "The graph tells us that most of the data lies close to 2000. This makes sense as we are now in the 21st century. However, there are years that are much smaller than 2000 (even before the time [when the car was invented (1886)](https://en.wikipedia.org/wiki/Car#:~:text=The%20year%201886%20is%20regarded,by%20the%20Ford%20Motor%20Company)), and years that are even larger than the current year. So let's clean them out."
   ]
  },
  {
   "cell_type": "code",
   "execution_count": 372,
   "metadata": {},
   "outputs": [],
   "source": [
    "autos = autos.loc[autos['registration_year'].between(1886,2019)]"
   ]
  },
  {
   "cell_type": "markdown",
   "metadata": {},
   "source": [
    "Now let's look at our histogram for the registration year:"
   ]
  },
  {
   "cell_type": "code",
   "execution_count": 373,
   "metadata": {},
   "outputs": [
    {
     "data": {
      "image/png": "[encoded data removed]",
      "text/plain": [
       "<Figure size 432x288 with 1 Axes>"
      ]
     },
     "metadata": {
      "needs_background": "light"
     },
     "output_type": "display_data"
    }
   ],
   "source": [
    "ax = sns.distplot(autos['registration_year'])\n",
    "ax.set_ylabel('Density')\n",
    "plt.show()"
   ]
  },
  {
   "cell_type": "markdown",
   "metadata": {},
   "source": [
    "Much better! We can notice that most the values are between year 1990 and year 2019. It is reasonable to drop data with registration year before 1980, as most of the people won't even look for these old cars."
   ]
  },
  {
   "cell_type": "code",
   "execution_count": 374,
   "metadata": {},
   "outputs": [],
   "source": [
    "autos = autos.loc[autos['registration_year'].between(1990,2019)]"
   ]
  },
  {
   "cell_type": "code",
   "execution_count": 375,
   "metadata": {},
   "outputs": [
    {
     "data": {
      "image/png": "[encoded data removed]",
      "text/plain": [
       "<Figure size 432x288 with 1 Axes>"
      ]
     },
     "metadata": {
      "needs_background": "light"
     },
     "output_type": "display_data"
    }
   ],
   "source": [
    "ax = sns.distplot(autos['registration_year'])\n",
    "ax.set_ylabel('Density')\n",
    "plt.show()"
   ]
  },
  {
   "cell_type": "markdown",
   "metadata": {},
   "source": [
    "Now the graph is perfect!"
   ]
  },
  {
   "cell_type": "markdown",
   "metadata": {},
   "source": [
    "### Power"
   ]
  },
  {
   "cell_type": "code",
   "execution_count": 376,
   "metadata": {},
   "outputs": [
    {
     "data": {
      "image/png": "[encoded data removed]",
      "text/plain": [
       "<Figure size 432x288 with 1 Axes>"
      ]
     },
     "metadata": {
      "needs_background": "light"
     },
     "output_type": "display_data"
    }
   ],
   "source": [
    "ax = sns.distplot(autos['power_ps'], kde=False, rug=True)\n",
    "ax.set_ylabel('Density')\n",
    "plt.show()"
   ]
  },
  {
   "cell_type": "markdown",
   "metadata": {},
   "source": [
    "Again, similar to the price and registration year, we see a huge variation on power values. This is an indication for outliers. So let's take a closer look."
   ]
  },
  {
   "cell_type": "code",
   "execution_count": 377,
   "metadata": {},
   "outputs": [
    {
     "data": {
      "text/plain": [
       "count    319696.000000\n",
       "mean        113.970269\n",
       "std         191.960125\n",
       "min           0.000000\n",
       "25%          73.000000\n",
       "50%         105.000000\n",
       "75%         144.000000\n",
       "max       20000.000000\n",
       "Name: power_ps, dtype: float64"
      ]
     },
     "execution_count": 377,
     "metadata": {},
     "output_type": "execute_result"
    }
   ],
   "source": [
    "autos['power_ps'].describe()"
   ]
  },
  {
   "cell_type": "markdown",
   "metadata": {},
   "source": [
    "Apparently, a power of 17700 or 0 does not make sense. Let's use the \"outer fences\" method first to clean our data."
   ]
  },
  {
   "cell_type": "code",
   "execution_count": 379,
   "metadata": {},
   "outputs": [
    {
     "name": "stdout",
     "output_type": "stream",
     "text": [
      "The upper bound is 360\n",
      "The lower bound is -143\n"
     ]
    }
   ],
   "source": [
    "# Filter out the outliers in \"power_ps\" column\n",
    "interq_power = 143 - 71\n",
    "up_power = 144 + 3 * interq_power\n",
    "low_power = 73 - 3 * interq_power\n",
    "print(\"The upper bound is {num}\".format(num=up_power))\n",
    "print(\"The lower bound is {num}\".format(num=low_power))"
   ]
  },
  {
   "cell_type": "markdown",
   "metadata": {},
   "source": [
    "A negative power value cannot be used. So I need to find the lowest power value, but not power of 0. Let's take a look at what low power values we have in the dataset:"
   ]
  },
  {
   "cell_type": "code",
   "execution_count": 380,
   "metadata": {},
   "outputs": [
    {
     "data": {
      "text/plain": [
       "0    31737\n",
       "1       23\n",
       "2        9\n",
       "3        7\n",
       "4       25\n",
       "5       95\n",
       "6       10\n",
       "7       10\n",
       "8        6\n",
       "9        3\n",
       "Name: power_ps, dtype: int64"
      ]
     },
     "execution_count": 380,
     "metadata": {},
     "output_type": "execute_result"
    }
   ],
   "source": [
    "autos['power_ps'].value_counts().sort_index(ascending=True).head(10)"
   ]
  },
  {
   "cell_type": "markdown",
   "metadata": {},
   "source": [
    "Suprisingly, there are many cars with power less than 10. It's quite rare to see any cars with such low power today, so my first impression is that they are very old cars. Let's verify if it is truely the case."
   ]
  },
  {
   "cell_type": "code",
   "execution_count": 381,
   "metadata": {},
   "outputs": [
    {
     "data": {
      "text/html": [
       "<div>\n",
       "<style scoped>\n",
       "    .dataframe tbody tr th:only-of-type {\n",
       "        vertical-align: middle;\n",
       "    }\n",
       "\n",
       "    .dataframe tbody tr th {\n",
       "        vertical-align: top;\n",
       "    }\n",
       "\n",
       "    .dataframe thead th {\n",
       "        text-align: right;\n",
       "    }\n",
       "</style>\n",
       "<table border=\"1\" class=\"dataframe\">\n",
       "  <thead>\n",
       "    <tr style=\"text-align: right;\">\n",
       "      <th></th>\n",
       "      <th>seller</th>\n",
       "      <th>offer_type</th>\n",
       "      <th>price</th>\n",
       "      <th>abtest</th>\n",
       "      <th>vehicle_type</th>\n",
       "      <th>registration_year</th>\n",
       "      <th>gearbox</th>\n",
       "      <th>power_ps</th>\n",
       "      <th>kilometer</th>\n",
       "      <th>registration_month</th>\n",
       "      <th>fuel_type</th>\n",
       "      <th>brand</th>\n",
       "      <th>unrepaired_damage</th>\n",
       "    </tr>\n",
       "  </thead>\n",
       "  <tbody>\n",
       "    <tr>\n",
       "      <td>21205</td>\n",
       "      <td>privat</td>\n",
       "      <td>Angebot</td>\n",
       "      <td>4999</td>\n",
       "      <td>test</td>\n",
       "      <td>limousine</td>\n",
       "      <td>2003</td>\n",
       "      <td>manuell</td>\n",
       "      <td>1</td>\n",
       "      <td>150000</td>\n",
       "      <td>12</td>\n",
       "      <td>diesel</td>\n",
       "      <td>mercedes_benz</td>\n",
       "      <td>nein</td>\n",
       "    </tr>\n",
       "    <tr>\n",
       "      <td>23310</td>\n",
       "      <td>privat</td>\n",
       "      <td>Angebot</td>\n",
       "      <td>275</td>\n",
       "      <td>test</td>\n",
       "      <td>andere</td>\n",
       "      <td>2010</td>\n",
       "      <td>automatik</td>\n",
       "      <td>1</td>\n",
       "      <td>5000</td>\n",
       "      <td>1</td>\n",
       "      <td>andere</td>\n",
       "      <td>sonstige_autos</td>\n",
       "      <td>nein</td>\n",
       "    </tr>\n",
       "    <tr>\n",
       "      <td>34798</td>\n",
       "      <td>privat</td>\n",
       "      <td>Angebot</td>\n",
       "      <td>3900</td>\n",
       "      <td>control</td>\n",
       "      <td>cabrio</td>\n",
       "      <td>2004</td>\n",
       "      <td>automatik</td>\n",
       "      <td>1</td>\n",
       "      <td>90000</td>\n",
       "      <td>5</td>\n",
       "      <td>benzin</td>\n",
       "      <td>smart</td>\n",
       "      <td>nein</td>\n",
       "    </tr>\n",
       "    <tr>\n",
       "      <td>75121</td>\n",
       "      <td>privat</td>\n",
       "      <td>Angebot</td>\n",
       "      <td>6000</td>\n",
       "      <td>test</td>\n",
       "      <td>andere</td>\n",
       "      <td>2009</td>\n",
       "      <td>manuell</td>\n",
       "      <td>1</td>\n",
       "      <td>5000</td>\n",
       "      <td>1</td>\n",
       "      <td>andere</td>\n",
       "      <td>sonstige_autos</td>\n",
       "      <td>nein</td>\n",
       "    </tr>\n",
       "    <tr>\n",
       "      <td>77437</td>\n",
       "      <td>privat</td>\n",
       "      <td>Angebot</td>\n",
       "      <td>490</td>\n",
       "      <td>control</td>\n",
       "      <td>limousine</td>\n",
       "      <td>2002</td>\n",
       "      <td>manuell</td>\n",
       "      <td>1</td>\n",
       "      <td>100000</td>\n",
       "      <td>11</td>\n",
       "      <td>benzin</td>\n",
       "      <td>chrysler</td>\n",
       "      <td>nein</td>\n",
       "    </tr>\n",
       "    <tr>\n",
       "      <td>98946</td>\n",
       "      <td>privat</td>\n",
       "      <td>Angebot</td>\n",
       "      <td>300</td>\n",
       "      <td>control</td>\n",
       "      <td>cabrio</td>\n",
       "      <td>1997</td>\n",
       "      <td>manuell</td>\n",
       "      <td>1</td>\n",
       "      <td>5000</td>\n",
       "      <td>4</td>\n",
       "      <td>diesel</td>\n",
       "      <td>volkswagen</td>\n",
       "      <td>ja</td>\n",
       "    </tr>\n",
       "    <tr>\n",
       "      <td>111996</td>\n",
       "      <td>privat</td>\n",
       "      <td>Angebot</td>\n",
       "      <td>650</td>\n",
       "      <td>control</td>\n",
       "      <td>kleinwagen</td>\n",
       "      <td>2016</td>\n",
       "      <td>manuell</td>\n",
       "      <td>1</td>\n",
       "      <td>150000</td>\n",
       "      <td>8</td>\n",
       "      <td>benzin</td>\n",
       "      <td>opel</td>\n",
       "      <td>nein</td>\n",
       "    </tr>\n",
       "    <tr>\n",
       "      <td>129498</td>\n",
       "      <td>privat</td>\n",
       "      <td>Angebot</td>\n",
       "      <td>1400</td>\n",
       "      <td>control</td>\n",
       "      <td>andere</td>\n",
       "      <td>1999</td>\n",
       "      <td>manuell</td>\n",
       "      <td>1</td>\n",
       "      <td>5000</td>\n",
       "      <td>0</td>\n",
       "      <td>benzin</td>\n",
       "      <td>sonstige_autos</td>\n",
       "      <td>nein</td>\n",
       "    </tr>\n",
       "    <tr>\n",
       "      <td>142267</td>\n",
       "      <td>privat</td>\n",
       "      <td>Angebot</td>\n",
       "      <td>799</td>\n",
       "      <td>test</td>\n",
       "      <td>limousine</td>\n",
       "      <td>1997</td>\n",
       "      <td>manuell</td>\n",
       "      <td>1</td>\n",
       "      <td>150000</td>\n",
       "      <td>4</td>\n",
       "      <td>benzin</td>\n",
       "      <td>renault</td>\n",
       "      <td>nein</td>\n",
       "    </tr>\n",
       "    <tr>\n",
       "      <td>142298</td>\n",
       "      <td>privat</td>\n",
       "      <td>Angebot</td>\n",
       "      <td>1</td>\n",
       "      <td>control</td>\n",
       "      <td>limousine</td>\n",
       "      <td>2002</td>\n",
       "      <td>manuell</td>\n",
       "      <td>1</td>\n",
       "      <td>5000</td>\n",
       "      <td>7</td>\n",
       "      <td>benzin</td>\n",
       "      <td>daewoo</td>\n",
       "      <td>nein</td>\n",
       "    </tr>\n",
       "    <tr>\n",
       "      <td>159047</td>\n",
       "      <td>privat</td>\n",
       "      <td>Angebot</td>\n",
       "      <td>1</td>\n",
       "      <td>test</td>\n",
       "      <td>limousine</td>\n",
       "      <td>1994</td>\n",
       "      <td>manuell</td>\n",
       "      <td>1</td>\n",
       "      <td>150000</td>\n",
       "      <td>4</td>\n",
       "      <td>benzin</td>\n",
       "      <td>opel</td>\n",
       "      <td>ja</td>\n",
       "    </tr>\n",
       "    <tr>\n",
       "      <td>169328</td>\n",
       "      <td>privat</td>\n",
       "      <td>Angebot</td>\n",
       "      <td>900</td>\n",
       "      <td>control</td>\n",
       "      <td>kombi</td>\n",
       "      <td>1998</td>\n",
       "      <td>manuell</td>\n",
       "      <td>1</td>\n",
       "      <td>5000</td>\n",
       "      <td>5</td>\n",
       "      <td>andere</td>\n",
       "      <td>fiat</td>\n",
       "      <td>nein</td>\n",
       "    </tr>\n",
       "    <tr>\n",
       "      <td>172294</td>\n",
       "      <td>privat</td>\n",
       "      <td>Angebot</td>\n",
       "      <td>6800</td>\n",
       "      <td>control</td>\n",
       "      <td>bus</td>\n",
       "      <td>2005</td>\n",
       "      <td>manuell</td>\n",
       "      <td>1</td>\n",
       "      <td>125000</td>\n",
       "      <td>12</td>\n",
       "      <td>diesel</td>\n",
       "      <td>volkswagen</td>\n",
       "      <td>nein</td>\n",
       "    </tr>\n",
       "    <tr>\n",
       "      <td>230841</td>\n",
       "      <td>privat</td>\n",
       "      <td>Angebot</td>\n",
       "      <td>700</td>\n",
       "      <td>test</td>\n",
       "      <td>kombi</td>\n",
       "      <td>1998</td>\n",
       "      <td>manuell</td>\n",
       "      <td>1</td>\n",
       "      <td>150000</td>\n",
       "      <td>4</td>\n",
       "      <td>benzin</td>\n",
       "      <td>opel</td>\n",
       "      <td>nein</td>\n",
       "    </tr>\n",
       "    <tr>\n",
       "      <td>249645</td>\n",
       "      <td>privat</td>\n",
       "      <td>Angebot</td>\n",
       "      <td>190</td>\n",
       "      <td>test</td>\n",
       "      <td>andere</td>\n",
       "      <td>2013</td>\n",
       "      <td>manuell</td>\n",
       "      <td>1</td>\n",
       "      <td>5000</td>\n",
       "      <td>0</td>\n",
       "      <td>benzin</td>\n",
       "      <td>audi</td>\n",
       "      <td>nein</td>\n",
       "    </tr>\n",
       "    <tr>\n",
       "      <td>282070</td>\n",
       "      <td>privat</td>\n",
       "      <td>Angebot</td>\n",
       "      <td>1200</td>\n",
       "      <td>test</td>\n",
       "      <td>limousine</td>\n",
       "      <td>2002</td>\n",
       "      <td>manuell</td>\n",
       "      <td>1</td>\n",
       "      <td>150000</td>\n",
       "      <td>12</td>\n",
       "      <td>benzin</td>\n",
       "      <td>mazda</td>\n",
       "      <td>nein</td>\n",
       "    </tr>\n",
       "    <tr>\n",
       "      <td>286896</td>\n",
       "      <td>privat</td>\n",
       "      <td>Angebot</td>\n",
       "      <td>1600</td>\n",
       "      <td>test</td>\n",
       "      <td>limousine</td>\n",
       "      <td>1998</td>\n",
       "      <td>manuell</td>\n",
       "      <td>1</td>\n",
       "      <td>150000</td>\n",
       "      <td>0</td>\n",
       "      <td>benzin</td>\n",
       "      <td>opel</td>\n",
       "      <td>nein</td>\n",
       "    </tr>\n",
       "    <tr>\n",
       "      <td>288385</td>\n",
       "      <td>privat</td>\n",
       "      <td>Angebot</td>\n",
       "      <td>200</td>\n",
       "      <td>control</td>\n",
       "      <td>limousine</td>\n",
       "      <td>1992</td>\n",
       "      <td>manuell</td>\n",
       "      <td>1</td>\n",
       "      <td>100000</td>\n",
       "      <td>12</td>\n",
       "      <td>benzin</td>\n",
       "      <td>volkswagen</td>\n",
       "      <td>ja</td>\n",
       "    </tr>\n",
       "    <tr>\n",
       "      <td>305898</td>\n",
       "      <td>privat</td>\n",
       "      <td>Angebot</td>\n",
       "      <td>1600</td>\n",
       "      <td>test</td>\n",
       "      <td>kombi</td>\n",
       "      <td>2002</td>\n",
       "      <td>manuell</td>\n",
       "      <td>1</td>\n",
       "      <td>150000</td>\n",
       "      <td>0</td>\n",
       "      <td>diesel</td>\n",
       "      <td>audi</td>\n",
       "      <td>nein</td>\n",
       "    </tr>\n",
       "    <tr>\n",
       "      <td>310533</td>\n",
       "      <td>privat</td>\n",
       "      <td>Angebot</td>\n",
       "      <td>5900</td>\n",
       "      <td>test</td>\n",
       "      <td>limousine</td>\n",
       "      <td>2017</td>\n",
       "      <td>manuell</td>\n",
       "      <td>1</td>\n",
       "      <td>125000</td>\n",
       "      <td>5</td>\n",
       "      <td>benzin</td>\n",
       "      <td>bmw</td>\n",
       "      <td>nein</td>\n",
       "    </tr>\n",
       "    <tr>\n",
       "      <td>326982</td>\n",
       "      <td>privat</td>\n",
       "      <td>Angebot</td>\n",
       "      <td>600</td>\n",
       "      <td>test</td>\n",
       "      <td>limousine</td>\n",
       "      <td>2000</td>\n",
       "      <td>automatik</td>\n",
       "      <td>1</td>\n",
       "      <td>150000</td>\n",
       "      <td>4</td>\n",
       "      <td>benzin</td>\n",
       "      <td>volkswagen</td>\n",
       "      <td>nein</td>\n",
       "    </tr>\n",
       "    <tr>\n",
       "      <td>333741</td>\n",
       "      <td>privat</td>\n",
       "      <td>Angebot</td>\n",
       "      <td>20</td>\n",
       "      <td>control</td>\n",
       "      <td>kleinwagen</td>\n",
       "      <td>2012</td>\n",
       "      <td>manuell</td>\n",
       "      <td>1</td>\n",
       "      <td>5000</td>\n",
       "      <td>5</td>\n",
       "      <td>andere</td>\n",
       "      <td>sonstige_autos</td>\n",
       "      <td>nein</td>\n",
       "    </tr>\n",
       "    <tr>\n",
       "      <td>335694</td>\n",
       "      <td>privat</td>\n",
       "      <td>Angebot</td>\n",
       "      <td>199</td>\n",
       "      <td>test</td>\n",
       "      <td>suv</td>\n",
       "      <td>2005</td>\n",
       "      <td>manuell</td>\n",
       "      <td>1</td>\n",
       "      <td>90000</td>\n",
       "      <td>5</td>\n",
       "      <td>andere</td>\n",
       "      <td>sonstige_autos</td>\n",
       "      <td>nein</td>\n",
       "    </tr>\n",
       "  </tbody>\n",
       "</table>\n",
       "</div>"
      ],
      "text/plain": [
       "        seller offer_type  price   abtest vehicle_type  registration_year  \\\n",
       "21205   privat    Angebot   4999     test    limousine               2003   \n",
       "23310   privat    Angebot    275     test       andere               2010   \n",
       "34798   privat    Angebot   3900  control       cabrio               2004   \n",
       "75121   privat    Angebot   6000     test       andere               2009   \n",
       "77437   privat    Angebot    490  control    limousine               2002   \n",
       "98946   privat    Angebot    300  control       cabrio               1997   \n",
       "111996  privat    Angebot    650  control   kleinwagen               2016   \n",
       "129498  privat    Angebot   1400  control       andere               1999   \n",
       "142267  privat    Angebot    799     test    limousine               1997   \n",
       "142298  privat    Angebot      1  control    limousine               2002   \n",
       "159047  privat    Angebot      1     test    limousine               1994   \n",
       "169328  privat    Angebot    900  control        kombi               1998   \n",
       "172294  privat    Angebot   6800  control          bus               2005   \n",
       "230841  privat    Angebot    700     test        kombi               1998   \n",
       "249645  privat    Angebot    190     test       andere               2013   \n",
       "282070  privat    Angebot   1200     test    limousine               2002   \n",
       "286896  privat    Angebot   1600     test    limousine               1998   \n",
       "288385  privat    Angebot    200  control    limousine               1992   \n",
       "305898  privat    Angebot   1600     test        kombi               2002   \n",
       "310533  privat    Angebot   5900     test    limousine               2017   \n",
       "326982  privat    Angebot    600     test    limousine               2000   \n",
       "333741  privat    Angebot     20  control   kleinwagen               2012   \n",
       "335694  privat    Angebot    199     test          suv               2005   \n",
       "\n",
       "          gearbox  power_ps  kilometer  registration_month fuel_type  \\\n",
       "21205     manuell         1     150000                  12    diesel   \n",
       "23310   automatik         1       5000                   1    andere   \n",
       "34798   automatik         1      90000                   5    benzin   \n",
       "75121     manuell         1       5000                   1    andere   \n",
       "77437     manuell         1     100000                  11    benzin   \n",
       "98946     manuell         1       5000                   4    diesel   \n",
       "111996    manuell         1     150000                   8    benzin   \n",
       "129498    manuell         1       5000                   0    benzin   \n",
       "142267    manuell         1     150000                   4    benzin   \n",
       "142298    manuell         1       5000                   7    benzin   \n",
       "159047    manuell         1     150000                   4    benzin   \n",
       "169328    manuell         1       5000                   5    andere   \n",
       "172294    manuell         1     125000                  12    diesel   \n",
       "230841    manuell         1     150000                   4    benzin   \n",
       "249645    manuell         1       5000                   0    benzin   \n",
       "282070    manuell         1     150000                  12    benzin   \n",
       "286896    manuell         1     150000                   0    benzin   \n",
       "288385    manuell         1     100000                  12    benzin   \n",
       "305898    manuell         1     150000                   0    diesel   \n",
       "310533    manuell         1     125000                   5    benzin   \n",
       "326982  automatik         1     150000                   4    benzin   \n",
       "333741    manuell         1       5000                   5    andere   \n",
       "335694    manuell         1      90000                   5    andere   \n",
       "\n",
       "                 brand unrepaired_damage  \n",
       "21205    mercedes_benz              nein  \n",
       "23310   sonstige_autos              nein  \n",
       "34798            smart              nein  \n",
       "75121   sonstige_autos              nein  \n",
       "77437         chrysler              nein  \n",
       "98946       volkswagen                ja  \n",
       "111996            opel              nein  \n",
       "129498  sonstige_autos              nein  \n",
       "142267         renault              nein  \n",
       "142298          daewoo              nein  \n",
       "159047            opel                ja  \n",
       "169328            fiat              nein  \n",
       "172294      volkswagen              nein  \n",
       "230841            opel              nein  \n",
       "249645            audi              nein  \n",
       "282070           mazda              nein  \n",
       "286896            opel              nein  \n",
       "288385      volkswagen                ja  \n",
       "305898            audi              nein  \n",
       "310533             bmw              nein  \n",
       "326982      volkswagen              nein  \n",
       "333741  sonstige_autos              nein  \n",
       "335694  sonstige_autos              nein  "
      ]
     },
     "execution_count": 381,
     "metadata": {},
     "output_type": "execute_result"
    }
   ],
   "source": [
    "autos.loc[autos['power_ps']==1]"
   ]
  },
  {
   "cell_type": "markdown",
   "metadata": {
    "collapsed": true
   },
   "source": [
    "The chart shows that a 2017 BMW has a power of 1 PS. This does not make sense as [the least powerful car](https://www.autoguide.com/auto-news/2017/07/top-10-cars-with-the-least-horsepower-in-2017.html) in 2017 that's available today has a power of 78 HP (79 PS). So I consider 79 PS as my lower bound for power. "
   ]
  },
  {
   "cell_type": "code",
   "execution_count": 382,
   "metadata": {},
   "outputs": [],
   "source": [
    "autos = autos.loc[autos['power_ps'].between(79,359)]"
   ]
  },
  {
   "cell_type": "code",
   "execution_count": 383,
   "metadata": {},
   "outputs": [
    {
     "data": {
      "image/png": "[encoded data removed]",
      "text/plain": [
       "<Figure size 432x288 with 1 Axes>"
      ]
     },
     "metadata": {
      "needs_background": "light"
     },
     "output_type": "display_data"
    }
   ],
   "source": [
    "ax = sns.distplot(autos['power_ps'])\n",
    "ax.set_ylabel('Density')\n",
    "plt.show()"
   ]
  },
  {
   "cell_type": "markdown",
   "metadata": {},
   "source": [
    "## Correlations\n",
    "We've completed the data cleaning. Let's now explore what variables are important for our analysis, and whether there are collinearities between variables. First, let's visualize the categorical columns as we haven't done it before."
   ]
  },
  {
   "cell_type": "markdown",
   "metadata": {},
   "source": [
    "**Seller:**"
   ]
  },
  {
   "cell_type": "code",
   "execution_count": 384,
   "metadata": {},
   "outputs": [
    {
     "data": {
      "image/png": "[encoded data removed]",
      "text/plain": [
       "<Figure size 288x288 with 1 Axes>"
      ]
     },
     "metadata": {
      "needs_background": "light"
     },
     "output_type": "display_data"
    }
   ],
   "source": [
    "fig = plt.figure(figsize=(4, 4))\n",
    "sns.countplot(x='seller', data=autos)\n",
    "plt.show()"
   ]
  },
  {
   "cell_type": "markdown",
   "metadata": {},
   "source": [
    "All sellers are \"privat\" (private) in our final dataset. This column is definitely not useful for our prediction. Let's drop it."
   ]
  },
  {
   "cell_type": "code",
   "execution_count": 385,
   "metadata": {},
   "outputs": [],
   "source": [
    "autos = autos.drop(columns=['seller'])"
   ]
  },
  {
   "cell_type": "markdown",
   "metadata": {},
   "source": [
    "**Offer_type:**"
   ]
  },
  {
   "cell_type": "code",
   "execution_count": 386,
   "metadata": {},
   "outputs": [
    {
     "data": {
      "image/png": "[encoded data removed]",
      "text/plain": [
       "<Figure size 288x288 with 1 Axes>"
      ]
     },
     "metadata": {
      "needs_background": "light"
     },
     "output_type": "display_data"
    }
   ],
   "source": [
    "fig = plt.figure(figsize=(4, 4))\n",
    "sns.countplot(x='offer_type', data=autos)\n",
    "plt.show()"
   ]
  },
  {
   "cell_type": "markdown",
   "metadata": {},
   "source": [
    "Almost offer_types are \"Angebot\" in our final dataset. Let's drop it."
   ]
  },
  {
   "cell_type": "code",
   "execution_count": 387,
   "metadata": {},
   "outputs": [],
   "source": [
    "autos = autos.drop(columns=['offer_type'])"
   ]
  },
  {
   "cell_type": "markdown",
   "metadata": {},
   "source": [
    "**abtest:**"
   ]
  },
  {
   "cell_type": "code",
   "execution_count": 388,
   "metadata": {},
   "outputs": [
    {
     "data": {
      "image/png": "[encoded data removed]",
      "text/plain": [
       "<Figure size 288x288 with 1 Axes>"
      ]
     },
     "metadata": {
      "needs_background": "light"
     },
     "output_type": "display_data"
    }
   ],
   "source": [
    "fig = plt.figure(figsize=(4, 4))\n",
    "sns.countplot(x='abtest', data=autos)\n",
    "plt.show()"
   ]
  },
  {
   "cell_type": "markdown",
   "metadata": {},
   "source": [
    "**Brand:**"
   ]
  },
  {
   "cell_type": "code",
   "execution_count": 458,
   "metadata": {},
   "outputs": [
    {
     "data": {
      "image/png": "[encoded data removed]",
      "text/plain": [
       "<Figure size 3600x720 with 1 Axes>"
      ]
     },
     "metadata": {
      "needs_background": "light"
     },
     "output_type": "display_data"
    }
   ],
   "source": [
    "fig = plt.figure(figsize=(50, 10))\n",
    "sns.countplot(x='brand', data=autos)\n",
    "plt.show()"
   ]
  },
  {
   "cell_type": "markdown",
   "metadata": {},
   "source": [
    "## Model Building"
   ]
  },
  {
   "cell_type": "markdown",
   "metadata": {},
   "source": [
    "### Random Forest"
   ]
  },
  {
   "cell_type": "markdown",
   "metadata": {},
   "source": [
    "One hot encoding for categorical columns:"
   ]
  },
  {
   "cell_type": "code",
   "execution_count": 391,
   "metadata": {},
   "outputs": [],
   "source": [
    "autos_one_hot = pd.get_dummies(autos, columns=['abtest', 'vehicle_type', 'gearbox', 'fuel_type', 'brand', 'unrepaired_damage'])"
   ]
  },
  {
   "cell_type": "markdown",
   "metadata": {},
   "source": [
    "Here is our parameter list:"
   ]
  },
  {
   "cell_type": "code",
   "execution_count": 401,
   "metadata": {},
   "outputs": [
    {
     "name": "stdout",
     "output_type": "stream",
     "text": [
      "<class 'pandas.core.frame.DataFrame'>\n",
      "Int64Index: 215548 entries, 1 to 371526\n",
      "Data columns (total 65 columns):\n",
      "price                      215548 non-null int64\n",
      "registration_year          215548 non-null int64\n",
      "power_ps                   215548 non-null int64\n",
      "kilometer                  215548 non-null int64\n",
      "registration_month         215548 non-null int64\n",
      "abtest_control             215548 non-null uint8\n",
      "abtest_test                215548 non-null uint8\n",
      "vehicle_type_andere        215548 non-null uint8\n",
      "vehicle_type_bus           215548 non-null uint8\n",
      "vehicle_type_cabrio        215548 non-null uint8\n",
      "vehicle_type_coupe         215548 non-null uint8\n",
      "vehicle_type_kleinwagen    215548 non-null uint8\n",
      "vehicle_type_kombi         215548 non-null uint8\n",
      "vehicle_type_limousine     215548 non-null uint8\n",
      "vehicle_type_suv           215548 non-null uint8\n",
      "gearbox_automatik          215548 non-null uint8\n",
      "gearbox_manuell            215548 non-null uint8\n",
      "fuel_type_andere           215548 non-null uint8\n",
      "fuel_type_benzin           215548 non-null uint8\n",
      "fuel_type_cng              215548 non-null uint8\n",
      "fuel_type_diesel           215548 non-null uint8\n",
      "fuel_type_elektro          215548 non-null uint8\n",
      "fuel_type_hybrid           215548 non-null uint8\n",
      "fuel_type_lpg              215548 non-null uint8\n",
      "brand_alfa_romeo           215548 non-null uint8\n",
      "brand_audi                 215548 non-null uint8\n",
      "brand_bmw                  215548 non-null uint8\n",
      "brand_chevrolet            215548 non-null uint8\n",
      "brand_chrysler             215548 non-null uint8\n",
      "brand_citroen              215548 non-null uint8\n",
      "brand_dacia                215548 non-null uint8\n",
      "brand_daewoo               215548 non-null uint8\n",
      "brand_daihatsu             215548 non-null uint8\n",
      "brand_fiat                 215548 non-null uint8\n",
      "brand_ford                 215548 non-null uint8\n",
      "brand_honda                215548 non-null uint8\n",
      "brand_hyundai              215548 non-null uint8\n",
      "brand_jaguar               215548 non-null uint8\n",
      "brand_jeep                 215548 non-null uint8\n",
      "brand_kia                  215548 non-null uint8\n",
      "brand_lada                 215548 non-null uint8\n",
      "brand_lancia               215548 non-null uint8\n",
      "brand_land_rover           215548 non-null uint8\n",
      "brand_mazda                215548 non-null uint8\n",
      "brand_mercedes_benz        215548 non-null uint8\n",
      "brand_mini                 215548 non-null uint8\n",
      "brand_mitsubishi           215548 non-null uint8\n",
      "brand_nissan               215548 non-null uint8\n",
      "brand_opel                 215548 non-null uint8\n",
      "brand_peugeot              215548 non-null uint8\n",
      "brand_porsche              215548 non-null uint8\n",
      "brand_renault              215548 non-null uint8\n",
      "brand_rover                215548 non-null uint8\n",
      "brand_saab                 215548 non-null uint8\n",
      "brand_seat                 215548 non-null uint8\n",
      "brand_skoda                215548 non-null uint8\n",
      "brand_smart                215548 non-null uint8\n",
      "brand_sonstige_autos       215548 non-null uint8\n",
      "brand_subaru               215548 non-null uint8\n",
      "brand_suzuki               215548 non-null uint8\n",
      "brand_toyota               215548 non-null uint8\n",
      "brand_volkswagen           215548 non-null uint8\n",
      "brand_volvo                215548 non-null uint8\n",
      "unrepaired_damage_ja       215548 non-null uint8\n",
      "unrepaired_damage_nein     215548 non-null uint8\n",
      "dtypes: int64(5), uint8(60)\n",
      "memory usage: 32.2 MB\n"
     ]
    }
   ],
   "source": [
    "autos_one_hot.info()"
   ]
  },
  {
   "cell_type": "code",
   "execution_count": 393,
   "metadata": {},
   "outputs": [],
   "source": [
    "X = autos_one_hot.iloc[:, 1:]\n",
    "y = autos_one_hot.iloc[:, 0]"
   ]
  },
  {
   "cell_type": "code",
   "execution_count": 394,
   "metadata": {},
   "outputs": [],
   "source": [
    "from sklearn.model_selection import train_test_split\n",
    "X_train, X_test, y_train, y_test = train_test_split(X, y)"
   ]
  },
  {
   "cell_type": "code",
   "execution_count": 399,
   "metadata": {},
   "outputs": [
    {
     "data": {
      "text/plain": [
       "0.8627407208357178"
      ]
     },
     "execution_count": 399,
     "metadata": {},
     "output_type": "execute_result"
    }
   ],
   "source": [
    "from sklearn.ensemble import RandomForestRegressor\n",
    "rf = RandomForestRegressor(n_estimators=10)\n",
    "rf.fit(X_train, y_train)\n",
    "rf.score(X_test, y_test)"
   ]
  },
  {
   "cell_type": "markdown",
   "metadata": {},
   "source": [
    "The accuracy is 86.2%, which is very good! Let's try to further improve the accuracy through hyper-parameter tuning:"
   ]
  },
  {
   "cell_type": "code",
   "execution_count": 397,
   "metadata": {},
   "outputs": [
    {
     "name": "stdout",
     "output_type": "stream",
     "text": [
      "0.8753490384330624\n",
      "{'max_depth': None, 'min_samples_leaf': 3, 'min_samples_split': 2, 'n_estimators': 100}\n"
     ]
    }
   ],
   "source": [
    "from sklearn.model_selection import GridSearchCV\n",
    "param_grid = {'n_estimators': [10, 50, 100], \n",
    "              'max_depth': [3, 5, 7, None], \n",
    "              'min_samples_split': [2, 3], \n",
    "              'min_samples_leaf': [1, 2, 3]}\n",
    "gs = GridSearchCV(estimator=rf, param_grid=param_grid, cv=5, refit=True, n_jobs=-1)\n",
    "gs.fit(X, y)\n",
    "print(gs.best_score_)\n",
    "print(gs.best_params_)\n",
    "rf_best = gs.best_estimator_"
   ]
  },
  {
   "cell_type": "markdown",
   "metadata": {},
   "source": [
    "Let's check the feature importances (there are too many features to show properly in a graph, so I store them in a dataframe):"
   ]
  },
  {
   "cell_type": "code",
   "execution_count": 414,
   "metadata": {},
   "outputs": [
    {
     "data": {
      "text/html": [
       "<div>\n",
       "<style scoped>\n",
       "    .dataframe tbody tr th:only-of-type {\n",
       "        vertical-align: middle;\n",
       "    }\n",
       "\n",
       "    .dataframe tbody tr th {\n",
       "        vertical-align: top;\n",
       "    }\n",
       "\n",
       "    .dataframe thead th {\n",
       "        text-align: right;\n",
       "    }\n",
       "</style>\n",
       "<table border=\"1\" class=\"dataframe\">\n",
       "  <thead>\n",
       "    <tr style=\"text-align: right;\">\n",
       "      <th></th>\n",
       "      <th>registration_year</th>\n",
       "      <th>power_ps</th>\n",
       "      <th>kilometer</th>\n",
       "      <th>registration_month</th>\n",
       "      <th>abtest_control</th>\n",
       "      <th>abtest_test</th>\n",
       "      <th>vehicle_type_andere</th>\n",
       "      <th>vehicle_type_bus</th>\n",
       "      <th>vehicle_type_cabrio</th>\n",
       "      <th>vehicle_type_coupe</th>\n",
       "      <th>...</th>\n",
       "      <th>brand_skoda</th>\n",
       "      <th>brand_smart</th>\n",
       "      <th>brand_sonstige_autos</th>\n",
       "      <th>brand_subaru</th>\n",
       "      <th>brand_suzuki</th>\n",
       "      <th>brand_toyota</th>\n",
       "      <th>brand_volkswagen</th>\n",
       "      <th>brand_volvo</th>\n",
       "      <th>unrepaired_damage_ja</th>\n",
       "      <th>unrepaired_damage_nein</th>\n",
       "    </tr>\n",
       "  </thead>\n",
       "  <tbody>\n",
       "    <tr>\n",
       "      <td>0</td>\n",
       "      <td>0.528346</td>\n",
       "      <td>0.23019</td>\n",
       "      <td>0.107347</td>\n",
       "      <td>0.022091</td>\n",
       "      <td>0.002432</td>\n",
       "      <td>0.002453</td>\n",
       "      <td>0.000278</td>\n",
       "      <td>0.004289</td>\n",
       "      <td>0.014478</td>\n",
       "      <td>0.002243</td>\n",
       "      <td>...</td>\n",
       "      <td>0.000478</td>\n",
       "      <td>0.000061</td>\n",
       "      <td>0.000572</td>\n",
       "      <td>0.000053</td>\n",
       "      <td>0.000111</td>\n",
       "      <td>0.00069</td>\n",
       "      <td>0.009117</td>\n",
       "      <td>0.00039</td>\n",
       "      <td>0.004682</td>\n",
       "      <td>0.004505</td>\n",
       "    </tr>\n",
       "  </tbody>\n",
       "</table>\n",
       "<p>1 rows × 64 columns</p>\n",
       "</div>"
      ],
      "text/plain": [
       "   registration_year  power_ps  kilometer  registration_month  abtest_control  \\\n",
       "0           0.528346   0.23019   0.107347            0.022091        0.002432   \n",
       "\n",
       "   abtest_test  vehicle_type_andere  vehicle_type_bus  vehicle_type_cabrio  \\\n",
       "0     0.002453             0.000278          0.004289             0.014478   \n",
       "\n",
       "   vehicle_type_coupe  ...  brand_skoda  brand_smart  brand_sonstige_autos  \\\n",
       "0            0.002243  ...     0.000478     0.000061              0.000572   \n",
       "\n",
       "   brand_subaru  brand_suzuki  brand_toyota  brand_volkswagen  brand_volvo  \\\n",
       "0      0.000053      0.000111       0.00069          0.009117      0.00039   \n",
       "\n",
       "   unrepaired_damage_ja  unrepaired_damage_nein  \n",
       "0              0.004682                0.004505  \n",
       "\n",
       "[1 rows x 64 columns]"
      ]
     },
     "execution_count": 414,
     "metadata": {},
     "output_type": "execute_result"
    }
   ],
   "source": [
    "feature_importance = {}\n",
    "for i in range(len(X.columns)):\n",
    "    feature_importance[X.columns[i]] = rf_best.feature_importances_[i]\n",
    "feature_importance = pd.DataFrame(feature_importance, index=[0])\n",
    "feature_importance"
   ]
  },
  {
   "cell_type": "code",
   "execution_count": 417,
   "metadata": {},
   "outputs": [
    {
     "data": {
      "text/html": [
       "<div>\n",
       "<style scoped>\n",
       "    .dataframe tbody tr th:only-of-type {\n",
       "        vertical-align: middle;\n",
       "    }\n",
       "\n",
       "    .dataframe tbody tr th {\n",
       "        vertical-align: top;\n",
       "    }\n",
       "\n",
       "    .dataframe thead th {\n",
       "        text-align: right;\n",
       "    }\n",
       "</style>\n",
       "<table border=\"1\" class=\"dataframe\">\n",
       "  <thead>\n",
       "    <tr style=\"text-align: right;\">\n",
       "      <th></th>\n",
       "      <th>feature_importance</th>\n",
       "    </tr>\n",
       "  </thead>\n",
       "  <tbody>\n",
       "    <tr>\n",
       "      <td>registration_year</td>\n",
       "      <td>0.528346</td>\n",
       "    </tr>\n",
       "    <tr>\n",
       "      <td>power_ps</td>\n",
       "      <td>0.230190</td>\n",
       "    </tr>\n",
       "    <tr>\n",
       "      <td>kilometer</td>\n",
       "      <td>0.107347</td>\n",
       "    </tr>\n",
       "    <tr>\n",
       "      <td>registration_month</td>\n",
       "      <td>0.022091</td>\n",
       "    </tr>\n",
       "    <tr>\n",
       "      <td>abtest_control</td>\n",
       "      <td>0.002432</td>\n",
       "    </tr>\n",
       "    <tr>\n",
       "      <td>...</td>\n",
       "      <td>...</td>\n",
       "    </tr>\n",
       "    <tr>\n",
       "      <td>brand_toyota</td>\n",
       "      <td>0.000690</td>\n",
       "    </tr>\n",
       "    <tr>\n",
       "      <td>brand_volkswagen</td>\n",
       "      <td>0.009117</td>\n",
       "    </tr>\n",
       "    <tr>\n",
       "      <td>brand_volvo</td>\n",
       "      <td>0.000390</td>\n",
       "    </tr>\n",
       "    <tr>\n",
       "      <td>unrepaired_damage_ja</td>\n",
       "      <td>0.004682</td>\n",
       "    </tr>\n",
       "    <tr>\n",
       "      <td>unrepaired_damage_nein</td>\n",
       "      <td>0.004505</td>\n",
       "    </tr>\n",
       "  </tbody>\n",
       "</table>\n",
       "<p>64 rows × 1 columns</p>\n",
       "</div>"
      ],
      "text/plain": [
       "                        feature_importance\n",
       "registration_year                 0.528346\n",
       "power_ps                          0.230190\n",
       "kilometer                         0.107347\n",
       "registration_month                0.022091\n",
       "abtest_control                    0.002432\n",
       "...                                    ...\n",
       "brand_toyota                      0.000690\n",
       "brand_volkswagen                  0.009117\n",
       "brand_volvo                       0.000390\n",
       "unrepaired_damage_ja              0.004682\n",
       "unrepaired_damage_nein            0.004505\n",
       "\n",
       "[64 rows x 1 columns]"
      ]
     },
     "execution_count": 417,
     "metadata": {},
     "output_type": "execute_result"
    }
   ],
   "source": [
    "feature_importance = {}\n",
    "feature_importance['feature_importance'] = []\n",
    "for value in rf_best.feature_importances_:\n",
    "    feature_importance['feature_importance'].append(value)\n",
    "feature_importance = pd.DataFrame(feature_importance, index=X.columns)\n",
    "feature_importance"
   ]
  },
  {
   "cell_type": "markdown",
   "metadata": {},
   "source": [
    "Let's see if we can cut off some features by selecting only the top most impactful features:"
   ]
  },
  {
   "cell_type": "code",
   "execution_count": 424,
   "metadata": {},
   "outputs": [
    {
     "data": {
      "text/html": [
       "<div>\n",
       "<style scoped>\n",
       "    .dataframe tbody tr th:only-of-type {\n",
       "        vertical-align: middle;\n",
       "    }\n",
       "\n",
       "    .dataframe tbody tr th {\n",
       "        vertical-align: top;\n",
       "    }\n",
       "\n",
       "    .dataframe thead th {\n",
       "        text-align: right;\n",
       "    }\n",
       "</style>\n",
       "<table border=\"1\" class=\"dataframe\">\n",
       "  <thead>\n",
       "    <tr style=\"text-align: right;\">\n",
       "      <th></th>\n",
       "      <th>feature_importance</th>\n",
       "    </tr>\n",
       "  </thead>\n",
       "  <tbody>\n",
       "    <tr>\n",
       "      <td>registration_year</td>\n",
       "      <td>0.528346</td>\n",
       "    </tr>\n",
       "    <tr>\n",
       "      <td>power_ps</td>\n",
       "      <td>0.230190</td>\n",
       "    </tr>\n",
       "    <tr>\n",
       "      <td>kilometer</td>\n",
       "      <td>0.107347</td>\n",
       "    </tr>\n",
       "    <tr>\n",
       "      <td>registration_month</td>\n",
       "      <td>0.022091</td>\n",
       "    </tr>\n",
       "  </tbody>\n",
       "</table>\n",
       "</div>"
      ],
      "text/plain": [
       "                    feature_importance\n",
       "registration_year             0.528346\n",
       "power_ps                      0.230190\n",
       "kilometer                     0.107347\n",
       "registration_month            0.022091"
      ]
     },
     "execution_count": 424,
     "metadata": {},
     "output_type": "execute_result"
    }
   ],
   "source": [
    "feature_importance.sort_values(by=['feature_importance'], ascending=False)[:4]"
   ]
  },
  {
   "cell_type": "markdown",
   "metadata": {},
   "source": [
    "The most impactful parameters are *registration_year*, *power_ps*, *kilometer*, and *registration_month*. Let's see if we can build a good model by using only these four parameters."
   ]
  },
  {
   "cell_type": "code",
   "execution_count": 426,
   "metadata": {},
   "outputs": [
    {
     "data": {
      "text/plain": [
       "0.7775023490403262"
      ]
     },
     "execution_count": 426,
     "metadata": {},
     "output_type": "execute_result"
    }
   ],
   "source": [
    "X_new = X.iloc[:, :4]\n",
    "X_train_new, X_test_new, y_train, y_test = train_test_split(X_new, y)\n",
    "\n",
    "rf_new = RandomForestRegressor(n_estimators=10)\n",
    "rf_new.fit(X_train_new, y_train)\n",
    "rf_new.score(X_test_new, y_test)"
   ]
  },
  {
   "cell_type": "markdown",
   "metadata": {},
   "source": [
    "We had a very large drop in accuracy by only taking the four most important features. So let's still include all the features for our prediction."
   ]
  }
 ],
 "metadata": {
  "kernelspec": {
   "display_name": "Python 3",
   "language": "python",
   "name": "python3"
  },
  "language_info": {
   "codemirror_mode": {
    "name": "ipython",
    "version": 3
   },
   "file_extension": ".py",
   "mimetype": "text/x-python",
   "name": "python",
   "nbconvert_exporter": "python",
   "pygments_lexer": "ipython3",
   "version": "3.7.4"
  }
 },
 "nbformat": 4,
 "nbformat_minor": 2
}

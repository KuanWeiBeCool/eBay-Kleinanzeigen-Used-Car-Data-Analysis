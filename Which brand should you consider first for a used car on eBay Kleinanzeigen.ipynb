{
 "cells": [
  {
   "cell_type": "markdown",
   "metadata": {
    "collapsed": true
   },
   "source": [
    "# Which brand should you consider first for a used car on eBay Kleinanzeigen?\n",
    "\n",
    "Cars are well-known as having a high depreciation rate. Therefore, purchasing used car can usually be economically more favorable for many people. *eBay Kleinanzeigen* is a classfied advertising section of the German eBay website. Here I will work with [a dataset](https://www.kaggle.com/orgesleka/used-cars-database/data) which was orinigally scraped from *eBay Kleinanzeigen*, for the used car sell information. My goals are to:\n",
    "- identify which brand should a customer consider first, based on the popularity and the price. \n",
    "- generate a predictive model using linear regression to predict the prices of used cars with most popular brands."
   ]
  },
  {
   "cell_type": "markdown",
   "metadata": {},
   "source": [
    "## Data Cleaning\n",
    "The data cleaning involves two main stages:\n",
    "\n",
    "The first stage is an overall dataset cleaning, where I will drop the unwanted data (such as missing data or data that is not useful for my analysis) and convert data into its correct type (e.g. convert string into float for numerical columns). \n",
    "\n",
    "The second stage is the cleaning for numerical columns, where I will remove outliers and redefine the boundaries of the numerical values in an rational way."
   ]
  },
  {
   "cell_type": "markdown",
   "metadata": {},
   "source": [
    "## Overall Dataset Cleaning"
   ]
  },
  {
   "cell_type": "code",
   "execution_count": 38,
   "metadata": {},
   "outputs": [],
   "source": [
    "import pandas as pd\n",
    "import numpy as np\n",
    "import matplotlib.pyplot as plt\n",
    "import seaborn as sns\n",
    "%matplotlib inline\n",
    "autos = pd.read_csv('autos.csv', encoding = 'Latin-1')"
   ]
  },
  {
   "cell_type": "markdown",
   "metadata": {},
   "source": [
    "I start by exploring the head of the dataframe:"
   ]
  },
  {
   "cell_type": "code",
   "execution_count": 39,
   "metadata": {
    "scrolled": true
   },
   "outputs": [
    {
     "data": {
      "text/html": [
       "<div>\n",
       "<style scoped>\n",
       "    .dataframe tbody tr th:only-of-type {\n",
       "        vertical-align: middle;\n",
       "    }\n",
       "\n",
       "    .dataframe tbody tr th {\n",
       "        vertical-align: top;\n",
       "    }\n",
       "\n",
       "    .dataframe thead th {\n",
       "        text-align: right;\n",
       "    }\n",
       "</style>\n",
       "<table border=\"1\" class=\"dataframe\">\n",
       "  <thead>\n",
       "    <tr style=\"text-align: right;\">\n",
       "      <th></th>\n",
       "      <th>dateCrawled</th>\n",
       "      <th>name</th>\n",
       "      <th>seller</th>\n",
       "      <th>offerType</th>\n",
       "      <th>price</th>\n",
       "      <th>abtest</th>\n",
       "      <th>vehicleType</th>\n",
       "      <th>yearOfRegistration</th>\n",
       "      <th>gearbox</th>\n",
       "      <th>powerPS</th>\n",
       "      <th>model</th>\n",
       "      <th>odometer</th>\n",
       "      <th>monthOfRegistration</th>\n",
       "      <th>fuelType</th>\n",
       "      <th>brand</th>\n",
       "      <th>notRepairedDamage</th>\n",
       "      <th>dateCreated</th>\n",
       "      <th>nrOfPictures</th>\n",
       "      <th>postalCode</th>\n",
       "      <th>lastSeen</th>\n",
       "    </tr>\n",
       "  </thead>\n",
       "  <tbody>\n",
       "    <tr>\n",
       "      <td>0</td>\n",
       "      <td>2016-03-26 17:47:46</td>\n",
       "      <td>Peugeot_807_160_NAVTECH_ON_BOARD</td>\n",
       "      <td>privat</td>\n",
       "      <td>Angebot</td>\n",
       "      <td>$5,000</td>\n",
       "      <td>control</td>\n",
       "      <td>bus</td>\n",
       "      <td>2004</td>\n",
       "      <td>manuell</td>\n",
       "      <td>158</td>\n",
       "      <td>andere</td>\n",
       "      <td>150,000km</td>\n",
       "      <td>3</td>\n",
       "      <td>lpg</td>\n",
       "      <td>peugeot</td>\n",
       "      <td>nein</td>\n",
       "      <td>2016-03-26 00:00:00</td>\n",
       "      <td>0</td>\n",
       "      <td>79588</td>\n",
       "      <td>2016-04-06 06:45:54</td>\n",
       "    </tr>\n",
       "    <tr>\n",
       "      <td>1</td>\n",
       "      <td>2016-04-04 13:38:56</td>\n",
       "      <td>BMW_740i_4_4_Liter_HAMANN_UMBAU_Mega_Optik</td>\n",
       "      <td>privat</td>\n",
       "      <td>Angebot</td>\n",
       "      <td>$8,500</td>\n",
       "      <td>control</td>\n",
       "      <td>limousine</td>\n",
       "      <td>1997</td>\n",
       "      <td>automatik</td>\n",
       "      <td>286</td>\n",
       "      <td>7er</td>\n",
       "      <td>150,000km</td>\n",
       "      <td>6</td>\n",
       "      <td>benzin</td>\n",
       "      <td>bmw</td>\n",
       "      <td>nein</td>\n",
       "      <td>2016-04-04 00:00:00</td>\n",
       "      <td>0</td>\n",
       "      <td>71034</td>\n",
       "      <td>2016-04-06 14:45:08</td>\n",
       "    </tr>\n",
       "    <tr>\n",
       "      <td>2</td>\n",
       "      <td>2016-03-26 18:57:24</td>\n",
       "      <td>Volkswagen_Golf_1.6_United</td>\n",
       "      <td>privat</td>\n",
       "      <td>Angebot</td>\n",
       "      <td>$8,990</td>\n",
       "      <td>test</td>\n",
       "      <td>limousine</td>\n",
       "      <td>2009</td>\n",
       "      <td>manuell</td>\n",
       "      <td>102</td>\n",
       "      <td>golf</td>\n",
       "      <td>70,000km</td>\n",
       "      <td>7</td>\n",
       "      <td>benzin</td>\n",
       "      <td>volkswagen</td>\n",
       "      <td>nein</td>\n",
       "      <td>2016-03-26 00:00:00</td>\n",
       "      <td>0</td>\n",
       "      <td>35394</td>\n",
       "      <td>2016-04-06 20:15:37</td>\n",
       "    </tr>\n",
       "    <tr>\n",
       "      <td>3</td>\n",
       "      <td>2016-03-12 16:58:10</td>\n",
       "      <td>Smart_smart_fortwo_coupe_softouch/F1/Klima/Pan...</td>\n",
       "      <td>privat</td>\n",
       "      <td>Angebot</td>\n",
       "      <td>$4,350</td>\n",
       "      <td>control</td>\n",
       "      <td>kleinwagen</td>\n",
       "      <td>2007</td>\n",
       "      <td>automatik</td>\n",
       "      <td>71</td>\n",
       "      <td>fortwo</td>\n",
       "      <td>70,000km</td>\n",
       "      <td>6</td>\n",
       "      <td>benzin</td>\n",
       "      <td>smart</td>\n",
       "      <td>nein</td>\n",
       "      <td>2016-03-12 00:00:00</td>\n",
       "      <td>0</td>\n",
       "      <td>33729</td>\n",
       "      <td>2016-03-15 03:16:28</td>\n",
       "    </tr>\n",
       "    <tr>\n",
       "      <td>4</td>\n",
       "      <td>2016-04-01 14:38:50</td>\n",
       "      <td>Ford_Focus_1_6_Benzin_TÜV_neu_ist_sehr_gepfleg...</td>\n",
       "      <td>privat</td>\n",
       "      <td>Angebot</td>\n",
       "      <td>$1,350</td>\n",
       "      <td>test</td>\n",
       "      <td>kombi</td>\n",
       "      <td>2003</td>\n",
       "      <td>manuell</td>\n",
       "      <td>0</td>\n",
       "      <td>focus</td>\n",
       "      <td>150,000km</td>\n",
       "      <td>7</td>\n",
       "      <td>benzin</td>\n",
       "      <td>ford</td>\n",
       "      <td>nein</td>\n",
       "      <td>2016-04-01 00:00:00</td>\n",
       "      <td>0</td>\n",
       "      <td>39218</td>\n",
       "      <td>2016-04-01 14:38:50</td>\n",
       "    </tr>\n",
       "  </tbody>\n",
       "</table>\n",
       "</div>"
      ],
      "text/plain": [
       "           dateCrawled                                               name  \\\n",
       "0  2016-03-26 17:47:46                   Peugeot_807_160_NAVTECH_ON_BOARD   \n",
       "1  2016-04-04 13:38:56         BMW_740i_4_4_Liter_HAMANN_UMBAU_Mega_Optik   \n",
       "2  2016-03-26 18:57:24                         Volkswagen_Golf_1.6_United   \n",
       "3  2016-03-12 16:58:10  Smart_smart_fortwo_coupe_softouch/F1/Klima/Pan...   \n",
       "4  2016-04-01 14:38:50  Ford_Focus_1_6_Benzin_TÜV_neu_ist_sehr_gepfleg...   \n",
       "\n",
       "   seller offerType   price   abtest vehicleType  yearOfRegistration  \\\n",
       "0  privat   Angebot  $5,000  control         bus                2004   \n",
       "1  privat   Angebot  $8,500  control   limousine                1997   \n",
       "2  privat   Angebot  $8,990     test   limousine                2009   \n",
       "3  privat   Angebot  $4,350  control  kleinwagen                2007   \n",
       "4  privat   Angebot  $1,350     test       kombi                2003   \n",
       "\n",
       "     gearbox  powerPS   model   odometer  monthOfRegistration fuelType  \\\n",
       "0    manuell      158  andere  150,000km                    3      lpg   \n",
       "1  automatik      286     7er  150,000km                    6   benzin   \n",
       "2    manuell      102    golf   70,000km                    7   benzin   \n",
       "3  automatik       71  fortwo   70,000km                    6   benzin   \n",
       "4    manuell        0   focus  150,000km                    7   benzin   \n",
       "\n",
       "        brand notRepairedDamage          dateCreated  nrOfPictures  \\\n",
       "0     peugeot              nein  2016-03-26 00:00:00             0   \n",
       "1         bmw              nein  2016-04-04 00:00:00             0   \n",
       "2  volkswagen              nein  2016-03-26 00:00:00             0   \n",
       "3       smart              nein  2016-03-12 00:00:00             0   \n",
       "4        ford              nein  2016-04-01 00:00:00             0   \n",
       "\n",
       "   postalCode             lastSeen  \n",
       "0       79588  2016-04-06 06:45:54  \n",
       "1       71034  2016-04-06 14:45:08  \n",
       "2       35394  2016-04-06 20:15:37  \n",
       "3       33729  2016-03-15 03:16:28  \n",
       "4       39218  2016-04-01 14:38:50  "
      ]
     },
     "execution_count": 39,
     "metadata": {},
     "output_type": "execute_result"
    }
   ],
   "source": [
    "autos.head()"
   ]
  },
  {
   "cell_type": "markdown",
   "metadata": {},
   "source": [
    "It can be noticed that the dataset uses camelcase in column name intead of the conventional snakecase in Python. To make my later analysis easier, I am going to change all the column names into snakecase."
   ]
  },
  {
   "cell_type": "code",
   "execution_count": 40,
   "metadata": {
    "scrolled": false
   },
   "outputs": [],
   "source": [
    "# Change column names\n",
    "autos.columns = ['date_crawled','name','seller','offer_type','price','abtest','vehicle_type','registration_year','gearbox','power_ps','model','odometer','registration_month','fuel_type','brand','unrepaired_damage','ad_created','n_of_pictures','postal_code','last_seen']"
   ]
  },
  {
   "cell_type": "markdown",
   "metadata": {},
   "source": [
    "Based on my objective, the most related cloumns are *price, power_ps, odometer*, and *brand*. Other factors that may have significant impact on prices are:\n",
    "- *registration_year*: it indirectly reflects the milage\n",
    "- *seller*: private sellers may have lower price as compared to commercial sellers \n",
    "- *vehicle_type*: different vehicle type has different price\n",
    "- *model*: different model has different price\n",
    "- *unrepaired_damage*: cars with not repaired damage may have a significantly lower price\n",
    "\n",
    "Other factors should not impact sell price a lot and thus can be removed."
   ]
  },
  {
   "cell_type": "code",
   "execution_count": 41,
   "metadata": {},
   "outputs": [],
   "source": [
    "autos = autos[['seller','price','power_ps','odometer','registration_year','brand','vehicle_type','model','unrepaired_damage']]"
   ]
  },
  {
   "cell_type": "markdown",
   "metadata": {},
   "source": [
    "Let's take a look at the description of the new dataframe and see if it can be further simplified."
   ]
  },
  {
   "cell_type": "code",
   "execution_count": 42,
   "metadata": {
    "scrolled": true
   },
   "outputs": [
    {
     "name": "stdout",
     "output_type": "stream",
     "text": [
      "<class 'pandas.core.frame.DataFrame'>\n",
      "RangeIndex: 50000 entries, 0 to 49999\n",
      "Data columns (total 9 columns):\n",
      "seller               50000 non-null object\n",
      "price                50000 non-null object\n",
      "power_ps             50000 non-null int64\n",
      "odometer             50000 non-null object\n",
      "registration_year    50000 non-null int64\n",
      "brand                50000 non-null object\n",
      "vehicle_type         44905 non-null object\n",
      "model                47242 non-null object\n",
      "unrepaired_damage    40171 non-null object\n",
      "dtypes: int64(2), object(7)\n",
      "memory usage: 3.4+ MB\n"
     ]
    }
   ],
   "source": [
    "autos.info()"
   ]
  },
  {
   "cell_type": "code",
   "execution_count": 43,
   "metadata": {
    "scrolled": true
   },
   "outputs": [
    {
     "data": {
      "text/html": [
       "<div>\n",
       "<style scoped>\n",
       "    .dataframe tbody tr th:only-of-type {\n",
       "        vertical-align: middle;\n",
       "    }\n",
       "\n",
       "    .dataframe tbody tr th {\n",
       "        vertical-align: top;\n",
       "    }\n",
       "\n",
       "    .dataframe thead th {\n",
       "        text-align: right;\n",
       "    }\n",
       "</style>\n",
       "<table border=\"1\" class=\"dataframe\">\n",
       "  <thead>\n",
       "    <tr style=\"text-align: right;\">\n",
       "      <th></th>\n",
       "      <th>seller</th>\n",
       "      <th>price</th>\n",
       "      <th>power_ps</th>\n",
       "      <th>odometer</th>\n",
       "      <th>registration_year</th>\n",
       "      <th>brand</th>\n",
       "      <th>vehicle_type</th>\n",
       "      <th>model</th>\n",
       "      <th>unrepaired_damage</th>\n",
       "    </tr>\n",
       "  </thead>\n",
       "  <tbody>\n",
       "    <tr>\n",
       "      <td>count</td>\n",
       "      <td>50000</td>\n",
       "      <td>50000</td>\n",
       "      <td>50000.000000</td>\n",
       "      <td>50000</td>\n",
       "      <td>50000.000000</td>\n",
       "      <td>50000</td>\n",
       "      <td>44905</td>\n",
       "      <td>47242</td>\n",
       "      <td>40171</td>\n",
       "    </tr>\n",
       "    <tr>\n",
       "      <td>unique</td>\n",
       "      <td>2</td>\n",
       "      <td>2357</td>\n",
       "      <td>NaN</td>\n",
       "      <td>13</td>\n",
       "      <td>NaN</td>\n",
       "      <td>40</td>\n",
       "      <td>8</td>\n",
       "      <td>245</td>\n",
       "      <td>2</td>\n",
       "    </tr>\n",
       "    <tr>\n",
       "      <td>top</td>\n",
       "      <td>privat</td>\n",
       "      <td>$0</td>\n",
       "      <td>NaN</td>\n",
       "      <td>150,000km</td>\n",
       "      <td>NaN</td>\n",
       "      <td>volkswagen</td>\n",
       "      <td>limousine</td>\n",
       "      <td>golf</td>\n",
       "      <td>nein</td>\n",
       "    </tr>\n",
       "    <tr>\n",
       "      <td>freq</td>\n",
       "      <td>49999</td>\n",
       "      <td>1421</td>\n",
       "      <td>NaN</td>\n",
       "      <td>32424</td>\n",
       "      <td>NaN</td>\n",
       "      <td>10687</td>\n",
       "      <td>12859</td>\n",
       "      <td>4024</td>\n",
       "      <td>35232</td>\n",
       "    </tr>\n",
       "    <tr>\n",
       "      <td>mean</td>\n",
       "      <td>NaN</td>\n",
       "      <td>NaN</td>\n",
       "      <td>116.355920</td>\n",
       "      <td>NaN</td>\n",
       "      <td>2005.073280</td>\n",
       "      <td>NaN</td>\n",
       "      <td>NaN</td>\n",
       "      <td>NaN</td>\n",
       "      <td>NaN</td>\n",
       "    </tr>\n",
       "    <tr>\n",
       "      <td>std</td>\n",
       "      <td>NaN</td>\n",
       "      <td>NaN</td>\n",
       "      <td>209.216627</td>\n",
       "      <td>NaN</td>\n",
       "      <td>105.712813</td>\n",
       "      <td>NaN</td>\n",
       "      <td>NaN</td>\n",
       "      <td>NaN</td>\n",
       "      <td>NaN</td>\n",
       "    </tr>\n",
       "    <tr>\n",
       "      <td>min</td>\n",
       "      <td>NaN</td>\n",
       "      <td>NaN</td>\n",
       "      <td>0.000000</td>\n",
       "      <td>NaN</td>\n",
       "      <td>1000.000000</td>\n",
       "      <td>NaN</td>\n",
       "      <td>NaN</td>\n",
       "      <td>NaN</td>\n",
       "      <td>NaN</td>\n",
       "    </tr>\n",
       "    <tr>\n",
       "      <td>25%</td>\n",
       "      <td>NaN</td>\n",
       "      <td>NaN</td>\n",
       "      <td>70.000000</td>\n",
       "      <td>NaN</td>\n",
       "      <td>1999.000000</td>\n",
       "      <td>NaN</td>\n",
       "      <td>NaN</td>\n",
       "      <td>NaN</td>\n",
       "      <td>NaN</td>\n",
       "    </tr>\n",
       "    <tr>\n",
       "      <td>50%</td>\n",
       "      <td>NaN</td>\n",
       "      <td>NaN</td>\n",
       "      <td>105.000000</td>\n",
       "      <td>NaN</td>\n",
       "      <td>2003.000000</td>\n",
       "      <td>NaN</td>\n",
       "      <td>NaN</td>\n",
       "      <td>NaN</td>\n",
       "      <td>NaN</td>\n",
       "    </tr>\n",
       "    <tr>\n",
       "      <td>75%</td>\n",
       "      <td>NaN</td>\n",
       "      <td>NaN</td>\n",
       "      <td>150.000000</td>\n",
       "      <td>NaN</td>\n",
       "      <td>2008.000000</td>\n",
       "      <td>NaN</td>\n",
       "      <td>NaN</td>\n",
       "      <td>NaN</td>\n",
       "      <td>NaN</td>\n",
       "    </tr>\n",
       "    <tr>\n",
       "      <td>max</td>\n",
       "      <td>NaN</td>\n",
       "      <td>NaN</td>\n",
       "      <td>17700.000000</td>\n",
       "      <td>NaN</td>\n",
       "      <td>9999.000000</td>\n",
       "      <td>NaN</td>\n",
       "      <td>NaN</td>\n",
       "      <td>NaN</td>\n",
       "      <td>NaN</td>\n",
       "    </tr>\n",
       "  </tbody>\n",
       "</table>\n",
       "</div>"
      ],
      "text/plain": [
       "        seller  price      power_ps   odometer  registration_year       brand  \\\n",
       "count    50000  50000  50000.000000      50000       50000.000000       50000   \n",
       "unique       2   2357           NaN         13                NaN          40   \n",
       "top     privat     $0           NaN  150,000km                NaN  volkswagen   \n",
       "freq     49999   1421           NaN      32424                NaN       10687   \n",
       "mean       NaN    NaN    116.355920        NaN        2005.073280         NaN   \n",
       "std        NaN    NaN    209.216627        NaN         105.712813         NaN   \n",
       "min        NaN    NaN      0.000000        NaN        1000.000000         NaN   \n",
       "25%        NaN    NaN     70.000000        NaN        1999.000000         NaN   \n",
       "50%        NaN    NaN    105.000000        NaN        2003.000000         NaN   \n",
       "75%        NaN    NaN    150.000000        NaN        2008.000000         NaN   \n",
       "max        NaN    NaN  17700.000000        NaN        9999.000000         NaN   \n",
       "\n",
       "       vehicle_type  model unrepaired_damage  \n",
       "count         44905  47242             40171  \n",
       "unique            8    245                 2  \n",
       "top       limousine   golf              nein  \n",
       "freq          12859   4024             35232  \n",
       "mean            NaN    NaN               NaN  \n",
       "std             NaN    NaN               NaN  \n",
       "min             NaN    NaN               NaN  \n",
       "25%             NaN    NaN               NaN  \n",
       "50%             NaN    NaN               NaN  \n",
       "75%             NaN    NaN               NaN  \n",
       "max             NaN    NaN               NaN  "
      ]
     },
     "execution_count": 43,
     "metadata": {},
     "output_type": "execute_result"
    }
   ],
   "source": [
    "autos.describe(include='all')"
   ]
  },
  {
   "cell_type": "code",
   "execution_count": 44,
   "metadata": {},
   "outputs": [
    {
     "data": {
      "text/plain": [
       "nein    35232\n",
       "ja       4939\n",
       "Name: unrepaired_damage, dtype: int64"
      ]
     },
     "execution_count": 44,
     "metadata": {},
     "output_type": "execute_result"
    }
   ],
   "source": [
    "autos.unrepaired_damage.value_counts()"
   ]
  },
  {
   "cell_type": "markdown",
   "metadata": {},
   "source": [
    "Some interesting findings:\n",
    "- *seller* column only have two unique values, and one of them have a frequency of 49999. This frequency is almost the same as the total count, and therefore analyzing this column may not give me any useful information. \n",
    "- *unrepaired_damage* column has almost all values being \"nein\" (which means \"No\" in German). The rest of the values are \"ja\" (which means \"Yes\"). Where the unrepaired damage happened and how serious the unrepaired damage was can significantly impact the price of the car. Considering that there is not enough information about the unrepaired damage, I will include only the cars that do not have unrepaired damage.\n",
    "\n",
    "Selecting rows with only private seller and no unrepaired_damage can still give me enough data to build the model."
   ]
  },
  {
   "cell_type": "code",
   "execution_count": 45,
   "metadata": {},
   "outputs": [],
   "source": [
    "# Select only private seller and no unrepaired_damage, and remove the two columns\n",
    "autos = autos.loc[(autos['seller']=='privat') & (autos['unrepaired_damage']=='nein'),:]\n",
    "autos.drop(columns=['seller','unrepaired_damage'],inplace=True)"
   ]
  },
  {
   "cell_type": "markdown",
   "metadata": {},
   "source": [
    "Since my goal is to determine how do power and milage impact price in three most common brands, I can remove *model* column as it is brand-specific. The vehicle type is also not in the scope of my analysis, so I will remove it too."
   ]
  },
  {
   "cell_type": "code",
   "execution_count": 46,
   "metadata": {},
   "outputs": [],
   "source": [
    "# Drop \"model\" and \"vehicle_type\" columns\n",
    "autos.drop(columns=['model'], inplace=True)\n",
    "autos.dropna(inplace=True)"
   ]
  },
  {
   "cell_type": "markdown",
   "metadata": {},
   "source": [
    "The new dataframe is as follow."
   ]
  },
  {
   "cell_type": "code",
   "execution_count": 47,
   "metadata": {
    "scrolled": true
   },
   "outputs": [
    {
     "data": {
      "text/html": [
       "<div>\n",
       "<style scoped>\n",
       "    .dataframe tbody tr th:only-of-type {\n",
       "        vertical-align: middle;\n",
       "    }\n",
       "\n",
       "    .dataframe tbody tr th {\n",
       "        vertical-align: top;\n",
       "    }\n",
       "\n",
       "    .dataframe thead th {\n",
       "        text-align: right;\n",
       "    }\n",
       "</style>\n",
       "<table border=\"1\" class=\"dataframe\">\n",
       "  <thead>\n",
       "    <tr style=\"text-align: right;\">\n",
       "      <th></th>\n",
       "      <th>price</th>\n",
       "      <th>power_ps</th>\n",
       "      <th>odometer</th>\n",
       "      <th>registration_year</th>\n",
       "      <th>brand</th>\n",
       "      <th>vehicle_type</th>\n",
       "    </tr>\n",
       "  </thead>\n",
       "  <tbody>\n",
       "    <tr>\n",
       "      <td>count</td>\n",
       "      <td>33449</td>\n",
       "      <td>33449.000000</td>\n",
       "      <td>33449</td>\n",
       "      <td>33449.000000</td>\n",
       "      <td>33449</td>\n",
       "      <td>33449</td>\n",
       "    </tr>\n",
       "    <tr>\n",
       "      <td>unique</td>\n",
       "      <td>2161</td>\n",
       "      <td>NaN</td>\n",
       "      <td>13</td>\n",
       "      <td>NaN</td>\n",
       "      <td>40</td>\n",
       "      <td>8</td>\n",
       "    </tr>\n",
       "    <tr>\n",
       "      <td>top</td>\n",
       "      <td>$1,500</td>\n",
       "      <td>NaN</td>\n",
       "      <td>150,000km</td>\n",
       "      <td>NaN</td>\n",
       "      <td>volkswagen</td>\n",
       "      <td>limousine</td>\n",
       "    </tr>\n",
       "    <tr>\n",
       "      <td>freq</td>\n",
       "      <td>426</td>\n",
       "      <td>NaN</td>\n",
       "      <td>20132</td>\n",
       "      <td>NaN</td>\n",
       "      <td>6961</td>\n",
       "      <td>9702</td>\n",
       "    </tr>\n",
       "    <tr>\n",
       "      <td>mean</td>\n",
       "      <td>NaN</td>\n",
       "      <td>128.203683</td>\n",
       "      <td>NaN</td>\n",
       "      <td>2003.456366</td>\n",
       "      <td>NaN</td>\n",
       "      <td>NaN</td>\n",
       "    </tr>\n",
       "    <tr>\n",
       "      <td>std</td>\n",
       "      <td>NaN</td>\n",
       "      <td>199.720736</td>\n",
       "      <td>NaN</td>\n",
       "      <td>6.697639</td>\n",
       "      <td>NaN</td>\n",
       "      <td>NaN</td>\n",
       "    </tr>\n",
       "    <tr>\n",
       "      <td>min</td>\n",
       "      <td>NaN</td>\n",
       "      <td>0.000000</td>\n",
       "      <td>NaN</td>\n",
       "      <td>1931.000000</td>\n",
       "      <td>NaN</td>\n",
       "      <td>NaN</td>\n",
       "    </tr>\n",
       "    <tr>\n",
       "      <td>25%</td>\n",
       "      <td>NaN</td>\n",
       "      <td>77.000000</td>\n",
       "      <td>NaN</td>\n",
       "      <td>2000.000000</td>\n",
       "      <td>NaN</td>\n",
       "      <td>NaN</td>\n",
       "    </tr>\n",
       "    <tr>\n",
       "      <td>50%</td>\n",
       "      <td>NaN</td>\n",
       "      <td>116.000000</td>\n",
       "      <td>NaN</td>\n",
       "      <td>2004.000000</td>\n",
       "      <td>NaN</td>\n",
       "      <td>NaN</td>\n",
       "    </tr>\n",
       "    <tr>\n",
       "      <td>75%</td>\n",
       "      <td>NaN</td>\n",
       "      <td>156.000000</td>\n",
       "      <td>NaN</td>\n",
       "      <td>2008.000000</td>\n",
       "      <td>NaN</td>\n",
       "      <td>NaN</td>\n",
       "    </tr>\n",
       "    <tr>\n",
       "      <td>max</td>\n",
       "      <td>NaN</td>\n",
       "      <td>17700.000000</td>\n",
       "      <td>NaN</td>\n",
       "      <td>2018.000000</td>\n",
       "      <td>NaN</td>\n",
       "      <td>NaN</td>\n",
       "    </tr>\n",
       "  </tbody>\n",
       "</table>\n",
       "</div>"
      ],
      "text/plain": [
       "         price      power_ps   odometer  registration_year       brand  \\\n",
       "count    33449  33449.000000      33449       33449.000000       33449   \n",
       "unique    2161           NaN         13                NaN          40   \n",
       "top     $1,500           NaN  150,000km                NaN  volkswagen   \n",
       "freq       426           NaN      20132                NaN        6961   \n",
       "mean       NaN    128.203683        NaN        2003.456366         NaN   \n",
       "std        NaN    199.720736        NaN           6.697639         NaN   \n",
       "min        NaN      0.000000        NaN        1931.000000         NaN   \n",
       "25%        NaN     77.000000        NaN        2000.000000         NaN   \n",
       "50%        NaN    116.000000        NaN        2004.000000         NaN   \n",
       "75%        NaN    156.000000        NaN        2008.000000         NaN   \n",
       "max        NaN  17700.000000        NaN        2018.000000         NaN   \n",
       "\n",
       "       vehicle_type  \n",
       "count         33449  \n",
       "unique            8  \n",
       "top       limousine  \n",
       "freq           9702  \n",
       "mean            NaN  \n",
       "std             NaN  \n",
       "min             NaN  \n",
       "25%             NaN  \n",
       "50%             NaN  \n",
       "75%             NaN  \n",
       "max             NaN  "
      ]
     },
     "execution_count": 47,
     "metadata": {},
     "output_type": "execute_result"
    }
   ],
   "source": [
    "autos.describe(include='all')"
   ]
  },
  {
   "cell_type": "markdown",
   "metadata": {},
   "source": [
    "Notice that *price* and *odometer* columns are in \"object\" data type. I need to convert them into numerical type."
   ]
  },
  {
   "cell_type": "code",
   "execution_count": 48,
   "metadata": {
    "scrolled": false
   },
   "outputs": [],
   "source": [
    "# Change the data type of columns \"price\" and \"odometer\" into float\n",
    "autos['price'] = autos['price'].str.replace('$','')\n",
    "autos['price'] = autos['price'].str.replace(',','')\n",
    "autos['price'] = autos['price'].astype(float)\n",
    "\n",
    "\n",
    "autos['odometer'] = autos['odometer'].str.replace('km','')\n",
    "autos['odometer'] = autos['odometer'].str.replace(',','')\n",
    "autos['odometer'] = autos['odometer'].astype(float)\n",
    "\n",
    "# Rename the column titles to make them descriptive\n",
    "autos.rename(columns={'price':'price_dollar', 'odometer':'odometer_km'},inplace=True)"
   ]
  },
  {
   "cell_type": "code",
   "execution_count": 49,
   "metadata": {},
   "outputs": [
    {
     "name": "stdout",
     "output_type": "stream",
     "text": [
      "<class 'pandas.core.frame.DataFrame'>\n",
      "Int64Index: 33449 entries, 0 to 49999\n",
      "Data columns (total 6 columns):\n",
      "price_dollar         33449 non-null float64\n",
      "power_ps             33449 non-null float64\n",
      "odometer_km          33449 non-null float64\n",
      "registration_year    33449 non-null float64\n",
      "brand                33449 non-null object\n",
      "vehicle_type         33449 non-null object\n",
      "dtypes: float64(4), object(2)\n",
      "memory usage: 1.8+ MB\n"
     ]
    }
   ],
   "source": [
    "autos['registration_year'] = autos['registration_year'].astype(float)\n",
    "autos['power_ps'] = autos['power_ps'].astype(float)\n",
    "autos.info()"
   ]
  },
  {
   "cell_type": "markdown",
   "metadata": {},
   "source": [
    "## Numerical Column Cleaning"
   ]
  },
  {
   "cell_type": "markdown",
   "metadata": {},
   "source": [
    "### Price"
   ]
  },
  {
   "cell_type": "markdown",
   "metadata": {},
   "source": [
    "Now, let's investigate columns *price_dollar* and *odometer_km* to see if additional cleaning is required. First, let's plot the *price_dollar* column."
   ]
  },
  {
   "cell_type": "code",
   "execution_count": 52,
   "metadata": {},
   "outputs": [
    {
     "data": {
      "image/png": "[encoded data removed]",
      "text/plain": [
       "<Figure size 432x288 with 1 Axes>"
      ]
     },
     "metadata": {
      "needs_background": "light"
     },
     "output_type": "display_data"
    }
   ],
   "source": [
    "ax = sns.distplot(autos['price_dollar'], kde=False, rug=True)\n",
    "ax.set_ylabel('Frequency')\n",
    "plt.show()"
   ]
  },
  {
   "cell_type": "markdown",
   "metadata": {},
   "source": [
    "The long thick bar indicates the frequency of the prices, while the short thin bars indicate where the prices locate at. As can be seen from the graph, majority of the prices fall below \\\\$100,000. However, several prices are way above \\\\$100,000 and caused the histogram compressed and we are unable to see any distribution from the graph. These large prices are likely outliers. Let's take a closer look at the statistics of the column:"
   ]
  },
  {
   "cell_type": "code",
   "execution_count": 53,
   "metadata": {},
   "outputs": [
    {
     "data": {
      "text/plain": [
       "count    3.344900e+04\n",
       "mean     8.352164e+03\n",
       "std      1.088783e+05\n",
       "min      0.000000e+00\n",
       "25%      1.798000e+03\n",
       "50%      4.150000e+03\n",
       "75%      9.000000e+03\n",
       "max      1.234568e+07\n",
       "Name: price_dollar, dtype: float64"
      ]
     },
     "execution_count": 53,
     "metadata": {},
     "output_type": "execute_result"
    }
   ],
   "source": [
    "autos['price_dollar'].describe()"
   ]
  },
  {
   "cell_type": "markdown",
   "metadata": {
    "collapsed": true
   },
   "source": [
    "It is noticed that the min price is 0 dollar, and the max price is 1,234,568 dollars. It is not normal to sell a car with a price of 0 dollar or higher than 500,000 dollars (the most luxurious cars in the world, like [Rolls Royce Phantom](https://www.rolls-roycemotorcars.com/en_GB/showroom/phantom.html) have price of 500,000 dollars. and the price is for brand new cars!). So, I need to set a proper price range for my analysis.\n",
    "\n",
    "First, let's find the [interquartile range](https://en.wikipedia.org/wiki/Interquartile_range) (the difference between the third quartile and the first quartile). Based on the description above, the first quartile is 1,700 dollars, and the third quartile is 8,950 dollars."
   ]
  },
  {
   "cell_type": "code",
   "execution_count": 54,
   "metadata": {
    "scrolled": true
   },
   "outputs": [],
   "source": [
    "# Find the interquartile range\n",
    "interq_price = 8950 - 1700"
   ]
  },
  {
   "cell_type": "markdown",
   "metadata": {},
   "source": [
    "The [major outliers](https://en.wikipedia.org/wiki/Outlier) are outside of the \"outer fences\". The upper bound of the \"outer fences\" is three interquartile range above the third quartile; the lower bound of the \"outer fences\" is three interquartile range below the first quartile."
   ]
  },
  {
   "cell_type": "code",
   "execution_count": 55,
   "metadata": {},
   "outputs": [
    {
     "name": "stdout",
     "output_type": "stream",
     "text": [
      "The upper bound is 30700\n",
      "The lower bound is -20050\n"
     ]
    }
   ],
   "source": [
    "# Find the outer fences\n",
    "up_price = 8950 + 3 * interq_price\n",
    "low_price = 1700 - 3 * interq_price\n",
    "print(\"The upper bound is {num}\".format(num=up_price))\n",
    "print(\"The lower bound is {num}\".format(num=low_price))"
   ]
  },
  {
   "cell_type": "markdown",
   "metadata": {},
   "source": [
    "The lower bound of the \"outer fences\" does not make sense as it is a negative value. However, essentially it indicates that all values below the first quartile is not considered outlier. Still, based on the common sense, nobody should sell a call with 0 dollar. So I take all values between 0 dollar and 25500 dollars, excluding 0 dollar for my analysis."
   ]
  },
  {
   "cell_type": "code",
   "execution_count": 56,
   "metadata": {},
   "outputs": [],
   "source": [
    "autos = autos.loc[autos['price_dollar'].between(0.1, 30700)]"
   ]
  },
  {
   "cell_type": "markdown",
   "metadata": {},
   "source": [
    "Let's see how the price distribution looks like now."
   ]
  },
  {
   "cell_type": "code",
   "execution_count": 57,
   "metadata": {},
   "outputs": [
    {
     "data": {
      "image/png": "[encoded data removed]",
      "text/plain": [
       "<Figure size 432x288 with 1 Axes>"
      ]
     },
     "metadata": {
      "needs_background": "light"
     },
     "output_type": "display_data"
    }
   ],
   "source": [
    "ax = sns.distplot(autos['price_dollar'])\n",
    "ax.set_ylabel('Density')\n",
    "plt.show()"
   ]
  },
  {
   "cell_type": "markdown",
   "metadata": {},
   "source": [
    "The graph now looks much better as we can clearly see the distribution of the prices. Even though it is not perfectly normal distributed, it has been greatly improved."
   ]
  },
  {
   "cell_type": "markdown",
   "metadata": {},
   "source": [
    "### Odometer Reading"
   ]
  },
  {
   "cell_type": "markdown",
   "metadata": {},
   "source": [
    "Now, let's examine the odometer_km column."
   ]
  },
  {
   "cell_type": "code",
   "execution_count": 58,
   "metadata": {},
   "outputs": [
    {
     "data": {
      "image/png": "[encoded data removed]",
      "text/plain": [
       "<Figure size 432x288 with 1 Axes>"
      ]
     },
     "metadata": {
      "needs_background": "light"
     },
     "output_type": "display_data"
    }
   ],
   "source": [
    "ax = sns.distplot(autos['odometer_km'])\n",
    "ax.set_ylabel('Density')\n",
    "plt.show()"
   ]
  },
  {
   "cell_type": "markdown",
   "metadata": {},
   "source": [
    "The graph above tells us that the values in *odometer_km* column are discrete, with most of the values at around 150,000 km. As every car should have different odometer reading, the discontinuous odometer reading indicates that the values are recorded by estimations. For example, it is possible that all odometer readings that are between 125,000 km and 150,000 km are recorded as 125,000 km. What is more interesting, how come no car has odometer reading above 150,000 km? To figure out the reason, let's take a closer look at the column data."
   ]
  },
  {
   "cell_type": "code",
   "execution_count": 28,
   "metadata": {},
   "outputs": [
    {
     "data": {
      "text/plain": [
       "count     32366.000000\n",
       "mean     124141.691899\n",
       "std       39400.852733\n",
       "min        5000.000000\n",
       "25%      100000.000000\n",
       "50%      150000.000000\n",
       "75%      150000.000000\n",
       "max      150000.000000\n",
       "Name: odometer_km, dtype: float64"
      ]
     },
     "execution_count": 28,
     "metadata": {},
     "output_type": "execute_result"
    }
   ],
   "source": [
    "autos['odometer_km'].describe()"
   ]
  },
  {
   "cell_type": "markdown",
   "metadata": {},
   "source": [
    "It is oberserved that the median value is equal to the max value, which means that over half of cars have odometer equal to 150,000 km. It is rare to see most of the cars having exactly the same odometer. I can think of two potential explainations: \n",
    "1. The cars with higher than 150,000 km are not included in the data set.\n",
    "2. The odometers higher than 150,000 km are considered as 150,000 km.\n",
    "\n",
    "In either way, considering that more than half of the data in this column is the same, this column may not be very useful for our analysis."
   ]
  },
  {
   "cell_type": "markdown",
   "metadata": {},
   "source": [
    "One alternative for odometer is the registration year. In general, the older the car, the higher the milage. So let's have a look at the *registration_year* column."
   ]
  },
  {
   "cell_type": "markdown",
   "metadata": {},
   "source": [
    "### Registration Year"
   ]
  },
  {
   "cell_type": "code",
   "execution_count": 59,
   "metadata": {},
   "outputs": [
    {
     "data": {
      "image/png": "[encoded data removed]",
      "text/plain": [
       "<Figure size 432x288 with 1 Axes>"
      ]
     },
     "metadata": {
      "needs_background": "light"
     },
     "output_type": "display_data"
    }
   ],
   "source": [
    "ax = sns.distplot(autos['registration_year'])\n",
    "ax.set_ylabel('Density')\n",
    "plt.show()"
   ]
  },
  {
   "cell_type": "markdown",
   "metadata": {},
   "source": [
    "The graph looks great except for a very long and thin tail on the left side. This means that I got some outliers with small registration years. Let's take a closer look:"
   ]
  },
  {
   "cell_type": "code",
   "execution_count": 60,
   "metadata": {},
   "outputs": [
    {
     "data": {
      "text/plain": [
       "count    32366.000000\n",
       "mean      2003.390039\n",
       "std          6.524744\n",
       "min       1931.000000\n",
       "25%       2000.000000\n",
       "50%       2004.000000\n",
       "75%       2008.000000\n",
       "max       2018.000000\n",
       "Name: registration_year, dtype: float64"
      ]
     },
     "execution_count": 60,
     "metadata": {},
     "output_type": "execute_result"
    }
   ],
   "source": [
    "autos['registration_year'].describe()"
   ]
  },
  {
   "cell_type": "markdown",
   "metadata": {},
   "source": [
    "It is noticed that the first quartile is at year 2000 but the minimum is at year 1931. This is a very large difference considering that the difference between the maximum and the first quartile is only 18 years. So I will use the \"outer fences\" to filter out the outliers."
   ]
  },
  {
   "cell_type": "code",
   "execution_count": 61,
   "metadata": {},
   "outputs": [
    {
     "name": "stdout",
     "output_type": "stream",
     "text": [
      "The upper bound is 2032\n",
      "The lower bound is 1976\n"
     ]
    }
   ],
   "source": [
    "# Filter out the outliers in \"registration_year\" column\n",
    "interq_reg = 2008 - 2000\n",
    "up_reg = 2008 + 3 * interq_reg\n",
    "low_reg = 2000 - 3 * interq_reg\n",
    "print(\"The upper bound is {num}\".format(num=up_reg))\n",
    "print(\"The lower bound is {num}\".format(num=low_reg))"
   ]
  },
  {
   "cell_type": "markdown",
   "metadata": {},
   "source": [
    "The lower bound found by \"outer fences\" method is reasonable. However, the upper bound is not. The maximum is year 2018 so I will use it as the upper bound instead."
   ]
  },
  {
   "cell_type": "code",
   "execution_count": 63,
   "metadata": {},
   "outputs": [],
   "source": [
    "autos = autos.loc[autos['registration_year'].between(1976,2019)]"
   ]
  },
  {
   "cell_type": "markdown",
   "metadata": {},
   "source": [
    "Now let's look at our histogram for the registration year:"
   ]
  },
  {
   "cell_type": "code",
   "execution_count": 64,
   "metadata": {},
   "outputs": [
    {
     "data": {
      "image/png": "[encoded data removed]",
      "text/plain": [
       "<Figure size 432x288 with 1 Axes>"
      ]
     },
     "metadata": {
      "needs_background": "light"
     },
     "output_type": "display_data"
    }
   ],
   "source": [
    "ax = sns.distplot(autos['registration_year'])\n",
    "ax.set_ylabel('Density')\n",
    "plt.show()"
   ]
  },
  {
   "cell_type": "markdown",
   "metadata": {},
   "source": [
    "Much better!"
   ]
  },
  {
   "cell_type": "markdown",
   "metadata": {},
   "source": [
    "### Power"
   ]
  },
  {
   "cell_type": "markdown",
   "metadata": {},
   "source": [
    "Another parameter I need to fit into my model is the power of the car. So let's check *power_ps* column."
   ]
  },
  {
   "cell_type": "code",
   "execution_count": 66,
   "metadata": {},
   "outputs": [
    {
     "data": {
      "image/png": "[encoded data removed]",
      "text/plain": [
       "<Figure size 432x288 with 1 Axes>"
      ]
     },
     "metadata": {
      "needs_background": "light"
     },
     "output_type": "display_data"
    }
   ],
   "source": [
    "ax = sns.distplot(autos['power_ps'], kde=False, rug=True)\n",
    "ax.set_ylabel('Density')\n",
    "plt.show()"
   ]
  },
  {
   "cell_type": "markdown",
   "metadata": {},
   "source": [
    "Again, similar to the price, we see a huge variation on power values. This is an indication for outliers. So let's take a closer look."
   ]
  },
  {
   "cell_type": "code",
   "execution_count": 67,
   "metadata": {},
   "outputs": [
    {
     "data": {
      "text/plain": [
       "count    32167.000000\n",
       "mean       125.253738\n",
       "std        201.306537\n",
       "min          0.000000\n",
       "25%         75.000000\n",
       "50%        116.000000\n",
       "75%        150.000000\n",
       "max      17700.000000\n",
       "Name: power_ps, dtype: float64"
      ]
     },
     "execution_count": 67,
     "metadata": {},
     "output_type": "execute_result"
    }
   ],
   "source": [
    "autos['power_ps'].describe()"
   ]
  },
  {
   "cell_type": "markdown",
   "metadata": {},
   "source": [
    "Apparently, a power of 17700 or 0 does not make sense. Again, let's use the \"outer fences\" method first to clean our data."
   ]
  },
  {
   "cell_type": "code",
   "execution_count": 68,
   "metadata": {},
   "outputs": [
    {
     "name": "stdout",
     "output_type": "stream",
     "text": [
      "The upper bound is 375\n",
      "The lower bound is -150\n"
     ]
    }
   ],
   "source": [
    "# Filter out the outliers in \"power_ps\" column\n",
    "interq_power = 150 - 75\n",
    "up_power = 150 + 3 * interq_power\n",
    "low_power = 75 - 3 * interq_power\n",
    "print(\"The upper bound is {num}\".format(num=up_power))\n",
    "print(\"The lower bound is {num}\".format(num=low_power))"
   ]
  },
  {
   "cell_type": "markdown",
   "metadata": {},
   "source": [
    "A negative power value cannot be used. So I need to find the lowest power value. Let's take a look at what low power values we have in the dataset:"
   ]
  },
  {
   "cell_type": "code",
   "execution_count": 69,
   "metadata": {},
   "outputs": [
    {
     "data": {
      "text/plain": [
       "0.0     1422\n",
       "1.0        1\n",
       "2.0        1\n",
       "3.0        1\n",
       "4.0        2\n",
       "5.0       10\n",
       "6.0        1\n",
       "8.0        1\n",
       "10.0       2\n",
       "11.0       4\n",
       "Name: power_ps, dtype: int64"
      ]
     },
     "execution_count": 69,
     "metadata": {},
     "output_type": "execute_result"
    }
   ],
   "source": [
    "autos['power_ps'].value_counts().sort_index(ascending=True).head(10)"
   ]
  },
  {
   "cell_type": "markdown",
   "metadata": {},
   "source": [
    "Suprisingly, there are many cars with power less than 10. It's quite rare to see any cars with such low power today, so my first impression is that they are very old cars. Let's verify if it is truely the case."
   ]
  },
  {
   "cell_type": "code",
   "execution_count": 70,
   "metadata": {},
   "outputs": [
    {
     "data": {
      "text/html": [
       "<div>\n",
       "<style scoped>\n",
       "    .dataframe tbody tr th:only-of-type {\n",
       "        vertical-align: middle;\n",
       "    }\n",
       "\n",
       "    .dataframe tbody tr th {\n",
       "        vertical-align: top;\n",
       "    }\n",
       "\n",
       "    .dataframe thead th {\n",
       "        text-align: right;\n",
       "    }\n",
       "</style>\n",
       "<table border=\"1\" class=\"dataframe\">\n",
       "  <thead>\n",
       "    <tr style=\"text-align: right;\">\n",
       "      <th></th>\n",
       "      <th>price_dollar</th>\n",
       "      <th>power_ps</th>\n",
       "      <th>odometer_km</th>\n",
       "      <th>registration_year</th>\n",
       "      <th>brand</th>\n",
       "      <th>vehicle_type</th>\n",
       "    </tr>\n",
       "  </thead>\n",
       "  <tbody>\n",
       "    <tr>\n",
       "      <td>485</td>\n",
       "      <td>490.0</td>\n",
       "      <td>1.0</td>\n",
       "      <td>100000.0</td>\n",
       "      <td>2002.0</td>\n",
       "      <td>chrysler</td>\n",
       "      <td>limousine</td>\n",
       "    </tr>\n",
       "  </tbody>\n",
       "</table>\n",
       "</div>"
      ],
      "text/plain": [
       "     price_dollar  power_ps  odometer_km  registration_year     brand  \\\n",
       "485         490.0       1.0     100000.0             2002.0  chrysler   \n",
       "\n",
       "    vehicle_type  \n",
       "485    limousine  "
      ]
     },
     "execution_count": 70,
     "metadata": {},
     "output_type": "execute_result"
    }
   ],
   "source": [
    "autos.loc[autos['power_ps']==1]"
   ]
  },
  {
   "cell_type": "markdown",
   "metadata": {
    "collapsed": true
   },
   "source": [
    "The chart shows that a 2017 BMW has a power of 1 PS. This does not make sense as [the least powerful car](https://www.autoguide.com/auto-news/2017/07/top-10-cars-with-the-least-horsepower-in-2017.html) in 2017 that's available today has a power of 78 HP (79 PS). So I consider 79 PS as my lower bound for power. "
   ]
  },
  {
   "cell_type": "code",
   "execution_count": 71,
   "metadata": {},
   "outputs": [],
   "source": [
    "autos = autos.loc[autos['power_ps'].between(79,359)]"
   ]
  },
  {
   "cell_type": "markdown",
   "metadata": {},
   "source": [
    "Now, the dataset is clean, and I can find the top three most famous brands for this data set. "
   ]
  },
  {
   "cell_type": "markdown",
   "metadata": {},
   "source": [
    "## Most Popular Brands"
   ]
  },
  {
   "cell_type": "code",
   "execution_count": 72,
   "metadata": {},
   "outputs": [
    {
     "data": {
      "text/plain": [
       "volkswagen       4558\n",
       "bmw              3617\n",
       "mercedes_benz    3000\n",
       "Name: brand, dtype: int64"
      ]
     },
     "execution_count": 72,
     "metadata": {},
     "output_type": "execute_result"
    }
   ],
   "source": [
    "autos['brand'].value_counts().head(3)"
   ]
  },
  {
   "cell_type": "markdown",
   "metadata": {},
   "source": [
    "**The top three brands are Volkswagen, BMW, Mercedes_benz.** "
   ]
  },
  {
   "cell_type": "markdown",
   "metadata": {},
   "source": [
    "## Model Building"
   ]
  },
  {
   "cell_type": "markdown",
   "metadata": {},
   "source": [
    "Let's see if there are correlations between different variables to ensure no collinearity appears."
   ]
  },
  {
   "cell_type": "markdown",
   "metadata": {},
   "source": [
    "Let's use the data of the top three brands to build a linear regression model that predicts the prices of the used cars! First, since the vehicle types are categorical data, I convert them into one-hot form."
   ]
  },
  {
   "cell_type": "code",
   "execution_count": 82,
   "metadata": {},
   "outputs": [],
   "source": [
    "autos_one_hot = pd.get_dummies(autos, columns=['vehicle_type'])\n",
    "autos_one_hot.drop(columns=['odometer_km'], inplace=True)"
   ]
  },
  {
   "cell_type": "code",
   "execution_count": 93,
   "metadata": {},
   "outputs": [
    {
     "data": {
      "image/png": "[encoded data removed]",
      "text/plain": [
       "<Figure size 792x648 with 2 Axes>"
      ]
     },
     "metadata": {
      "needs_background": "light"
     },
     "output_type": "display_data"
    }
   ],
   "source": [
    "# Compute the correlation matrix\n",
    "corr = autos_one_hot.corr()\n",
    "\n",
    "# Generate a mask for the upper triangle\n",
    "mask = np.triu(np.ones_like(corr, dtype=np.bool))\n",
    "\n",
    "# Set up the matplotlib figure\n",
    "f, ax = plt.subplots(figsize=(11, 9))\n",
    "\n",
    "# Generate a custom diverging colormap\n",
    "cmap = sns.diverging_palette(220, 10, as_cmap=True)\n",
    "\n",
    "# Draw the heatmap with the mask and correct aspect ratio\n",
    "sns.heatmap(corr, mask=mask, cmap=cmap, vmax=.3, center=0, annot=True,\n",
    "            square=True, linewidths=.5, cbar_kws={\"shrink\": .5})\n",
    "plt.show()"
   ]
  },
  {
   "cell_type": "markdown",
   "metadata": {},
   "source": [
    "As can be seen from the correlation map, power and registration year are strongly correlated with price. This means that I chose the right parameters for the prediction. Registration year and power also have correlations with vehicle types, especially power. This maakes sense as different vehicles are designed to have different power. For example, an SUV should have higher power than a supermini （kleinwagen). Since the correlations between vehicle types and power/registration year are below 0.2, I don't consider them as strongly correlated. Negative correlations between different vehicle types also make sense as they are unique."
   ]
  },
  {
   "cell_type": "markdown",
   "metadata": {},
   "source": [
    "Now let's start to build our model!"
   ]
  },
  {
   "cell_type": "code",
   "execution_count": 83,
   "metadata": {},
   "outputs": [],
   "source": [
    "autos_vol = autos_one_hot.loc[autos['brand']=='volkswagen']\n",
    "autos_bmw = autos_one_hot.loc[autos['brand']=='bmw']\n",
    "autos_benz = autos_one_hot.loc[autos['brand']=='mercedes_benz']"
   ]
  },
  {
   "cell_type": "code",
   "execution_count": 85,
   "metadata": {},
   "outputs": [
    {
     "name": "stderr",
     "output_type": "stream",
     "text": [
      "C:\\Users\\kuanw\\anaconda\\lib\\site-packages\\pandas\\core\\frame.py:4102: SettingWithCopyWarning: \n",
      "A value is trying to be set on a copy of a slice from a DataFrame\n",
      "\n",
      "See the caveats in the documentation: http://pandas.pydata.org/pandas-docs/stable/user_guide/indexing.html#returning-a-view-versus-a-copy\n",
      "  errors=errors,\n"
     ]
    }
   ],
   "source": [
    "autos_vol.drop(columns=['brand'], inplace=True)\n",
    "autos_bmw.drop(columns=['brand'], inplace=True)\n",
    "autos_benz.drop(columns=['brand'], inplace=True)"
   ]
  },
  {
   "cell_type": "markdown",
   "metadata": {},
   "source": [
    "The following code uses multiple regression model in sklearn to build the model. "
   ]
  },
  {
   "cell_type": "code",
   "execution_count": 88,
   "metadata": {},
   "outputs": [
    {
     "name": "stderr",
     "output_type": "stream",
     "text": [
      "C:\\Users\\kuanw\\anaconda\\lib\\site-packages\\ipykernel_launcher.py:8: FutureWarning: Method .as_matrix will be removed in a future version. Use .values instead.\n",
      "  \n"
     ]
    },
    {
     "data": {
      "text/html": [
       "<table class=\"simpletable\">\n",
       "<caption>OLS Regression Results</caption>\n",
       "<tr>\n",
       "  <th>Dep. Variable:</th>      <td>price_dollar</td>   <th>  R-squared:         </th> <td>   0.647</td> \n",
       "</tr>\n",
       "<tr>\n",
       "  <th>Model:</th>                   <td>OLS</td>       <th>  Adj. R-squared:    </th> <td>   0.647</td> \n",
       "</tr>\n",
       "<tr>\n",
       "  <th>Method:</th>             <td>Least Squares</td>  <th>  F-statistic:       </th> <td>   928.2</td> \n",
       "</tr>\n",
       "<tr>\n",
       "  <th>Date:</th>             <td>Fri, 04 Sep 2020</td> <th>  Prob (F-statistic):</th>  <td>  0.00</td>  \n",
       "</tr>\n",
       "<tr>\n",
       "  <th>Time:</th>                 <td>19:09:39</td>     <th>  Log-Likelihood:    </th> <td> -43965.</td> \n",
       "</tr>\n",
       "<tr>\n",
       "  <th>No. Observations:</th>      <td>  4558</td>      <th>  AIC:               </th> <td>8.795e+04</td>\n",
       "</tr>\n",
       "<tr>\n",
       "  <th>Df Residuals:</th>          <td>  4548</td>      <th>  BIC:               </th> <td>8.801e+04</td>\n",
       "</tr>\n",
       "<tr>\n",
       "  <th>Df Model:</th>              <td>     9</td>      <th>                     </th>     <td> </td>    \n",
       "</tr>\n",
       "<tr>\n",
       "  <th>Covariance Type:</th>      <td>nonrobust</td>    <th>                     </th>     <td> </td>    \n",
       "</tr>\n",
       "</table>\n",
       "<table class=\"simpletable\">\n",
       "<tr>\n",
       "    <td></td>       <th>coef</th>     <th>std err</th>      <th>t</th>      <th>P>|t|</th>  <th>[0.025</th>    <th>0.975]</th>  \n",
       "</tr>\n",
       "<tr>\n",
       "  <th>const</th> <td> 8064.4974</td> <td>   55.456</td> <td>  145.422</td> <td> 0.000</td> <td> 7955.777</td> <td> 8173.218</td>\n",
       "</tr>\n",
       "<tr>\n",
       "  <th>x1</th>    <td> 1658.3144</td> <td>   60.789</td> <td>   27.280</td> <td> 0.000</td> <td> 1539.137</td> <td> 1777.491</td>\n",
       "</tr>\n",
       "<tr>\n",
       "  <th>x2</th>    <td> 4035.4376</td> <td>   57.829</td> <td>   69.782</td> <td> 0.000</td> <td> 3922.064</td> <td> 4148.811</td>\n",
       "</tr>\n",
       "<tr>\n",
       "  <th>x3</th>    <td>  -42.2885</td> <td>   55.025</td> <td>   -0.769</td> <td> 0.442</td> <td> -150.164</td> <td>   65.587</td>\n",
       "</tr>\n",
       "<tr>\n",
       "  <th>x4</th>    <td>  545.4821</td> <td>   44.078</td> <td>   12.375</td> <td> 0.000</td> <td>  459.068</td> <td>  631.896</td>\n",
       "</tr>\n",
       "<tr>\n",
       "  <th>x5</th>    <td>  552.5723</td> <td>   52.206</td> <td>   10.584</td> <td> 0.000</td> <td>  450.223</td> <td>  654.922</td>\n",
       "</tr>\n",
       "<tr>\n",
       "  <th>x6</th>    <td>  241.8738</td> <td>   53.785</td> <td>    4.497</td> <td> 0.000</td> <td>  136.430</td> <td>  347.318</td>\n",
       "</tr>\n",
       "<tr>\n",
       "  <th>x7</th>    <td> -246.6333</td> <td>   51.612</td> <td>   -4.779</td> <td> 0.000</td> <td> -347.818</td> <td> -145.449</td>\n",
       "</tr>\n",
       "<tr>\n",
       "  <th>x8</th>    <td> -726.0038</td> <td>   42.310</td> <td>  -17.159</td> <td> 0.000</td> <td> -808.953</td> <td> -643.055</td>\n",
       "</tr>\n",
       "<tr>\n",
       "  <th>x9</th>    <td> -283.1997</td> <td>   39.403</td> <td>   -7.187</td> <td> 0.000</td> <td> -360.448</td> <td> -205.951</td>\n",
       "</tr>\n",
       "<tr>\n",
       "  <th>x10</th>   <td>  628.3683</td> <td>   54.964</td> <td>   11.432</td> <td> 0.000</td> <td>  520.612</td> <td>  736.125</td>\n",
       "</tr>\n",
       "</table>\n",
       "<table class=\"simpletable\">\n",
       "<tr>\n",
       "  <th>Omnibus:</th>       <td>1253.489</td> <th>  Durbin-Watson:     </th> <td>   1.937</td>\n",
       "</tr>\n",
       "<tr>\n",
       "  <th>Prob(Omnibus):</th>  <td> 0.000</td>  <th>  Jarque-Bera (JB):  </th> <td>4588.008</td>\n",
       "</tr>\n",
       "<tr>\n",
       "  <th>Skew:</th>           <td> 1.338</td>  <th>  Prob(JB):          </th> <td>    0.00</td>\n",
       "</tr>\n",
       "<tr>\n",
       "  <th>Kurtosis:</th>       <td> 7.123</td>  <th>  Cond. No.          </th> <td>7.41e+15</td>\n",
       "</tr>\n",
       "</table><br/><br/>Warnings:<br/>[1] Standard Errors assume that the covariance matrix of the errors is correctly specified.<br/>[2] The smallest eigenvalue is 1.28e-28. This might indicate that there are<br/>strong multicollinearity problems or that the design matrix is singular."
      ],
      "text/plain": [
       "<class 'statsmodels.iolib.summary.Summary'>\n",
       "\"\"\"\n",
       "                            OLS Regression Results                            \n",
       "==============================================================================\n",
       "Dep. Variable:           price_dollar   R-squared:                       0.647\n",
       "Model:                            OLS   Adj. R-squared:                  0.647\n",
       "Method:                 Least Squares   F-statistic:                     928.2\n",
       "Date:                Fri, 04 Sep 2020   Prob (F-statistic):               0.00\n",
       "Time:                        19:09:39   Log-Likelihood:                -43965.\n",
       "No. Observations:                4558   AIC:                         8.795e+04\n",
       "Df Residuals:                    4548   BIC:                         8.801e+04\n",
       "Df Model:                           9                                         \n",
       "Covariance Type:            nonrobust                                         \n",
       "==============================================================================\n",
       "                 coef    std err          t      P>|t|      [0.025      0.975]\n",
       "------------------------------------------------------------------------------\n",
       "const       8064.4974     55.456    145.422      0.000    7955.777    8173.218\n",
       "x1          1658.3144     60.789     27.280      0.000    1539.137    1777.491\n",
       "x2          4035.4376     57.829     69.782      0.000    3922.064    4148.811\n",
       "x3           -42.2885     55.025     -0.769      0.442    -150.164      65.587\n",
       "x4           545.4821     44.078     12.375      0.000     459.068     631.896\n",
       "x5           552.5723     52.206     10.584      0.000     450.223     654.922\n",
       "x6           241.8738     53.785      4.497      0.000     136.430     347.318\n",
       "x7          -246.6333     51.612     -4.779      0.000    -347.818    -145.449\n",
       "x8          -726.0038     42.310    -17.159      0.000    -808.953    -643.055\n",
       "x9          -283.1997     39.403     -7.187      0.000    -360.448    -205.951\n",
       "x10          628.3683     54.964     11.432      0.000     520.612     736.125\n",
       "==============================================================================\n",
       "Omnibus:                     1253.489   Durbin-Watson:                   1.937\n",
       "Prob(Omnibus):                  0.000   Jarque-Bera (JB):             4588.008\n",
       "Skew:                           1.338   Prob(JB):                         0.00\n",
       "Kurtosis:                       7.123   Cond. No.                     7.41e+15\n",
       "==============================================================================\n",
       "\n",
       "Warnings:\n",
       "[1] Standard Errors assume that the covariance matrix of the errors is correctly specified.\n",
       "[2] The smallest eigenvalue is 1.28e-28. This might indicate that there are\n",
       "strong multicollinearity problems or that the design matrix is singular.\n",
       "\"\"\""
      ]
     },
     "execution_count": 88,
     "metadata": {},
     "output_type": "execute_result"
    }
   ],
   "source": [
    "import statsmodels.api as sm\n",
    "from sklearn.preprocessing import StandardScaler\n",
    "scale = StandardScaler()\n",
    "\n",
    "X1 = autos_vol.iloc[:,1:]\n",
    "y1 = autos_vol.iloc[:,0]\n",
    "\n",
    "X1= scale.fit_transform(X1.as_matrix())\n",
    "X1 = sm.add_constant(X1)\n",
    "\n",
    "est_vol = sm.OLS(y1, X1).fit()\n",
    "\n",
    "est_vol.summary()"
   ]
  },
  {
   "cell_type": "code",
   "execution_count": 90,
   "metadata": {},
   "outputs": [
    {
     "name": "stderr",
     "output_type": "stream",
     "text": [
      "C:\\Users\\kuanw\\anaconda\\lib\\site-packages\\ipykernel_launcher.py:4: FutureWarning: Method .as_matrix will be removed in a future version. Use .values instead.\n",
      "  after removing the cwd from sys.path.\n"
     ]
    },
    {
     "data": {
      "text/html": [
       "<table class=\"simpletable\">\n",
       "<caption>OLS Regression Results</caption>\n",
       "<tr>\n",
       "  <th>Dep. Variable:</th>      <td>price_dollar</td>   <th>  R-squared:         </th> <td>   0.658</td> \n",
       "</tr>\n",
       "<tr>\n",
       "  <th>Model:</th>                   <td>OLS</td>       <th>  Adj. R-squared:    </th> <td>   0.658</td> \n",
       "</tr>\n",
       "<tr>\n",
       "  <th>Method:</th>             <td>Least Squares</td>  <th>  F-statistic:       </th> <td>   772.7</td> \n",
       "</tr>\n",
       "<tr>\n",
       "  <th>Date:</th>             <td>Fri, 04 Sep 2020</td> <th>  Prob (F-statistic):</th>  <td>  0.00</td>  \n",
       "</tr>\n",
       "<tr>\n",
       "  <th>Time:</th>                 <td>19:10:34</td>     <th>  Log-Likelihood:    </th> <td> -35008.</td> \n",
       "</tr>\n",
       "<tr>\n",
       "  <th>No. Observations:</th>      <td>  3617</td>      <th>  AIC:               </th> <td>7.004e+04</td>\n",
       "</tr>\n",
       "<tr>\n",
       "  <th>Df Residuals:</th>          <td>  3607</td>      <th>  BIC:               </th> <td>7.010e+04</td>\n",
       "</tr>\n",
       "<tr>\n",
       "  <th>Df Model:</th>              <td>     9</td>      <th>                     </th>     <td> </td>    \n",
       "</tr>\n",
       "<tr>\n",
       "  <th>Covariance Type:</th>      <td>nonrobust</td>    <th>                     </th>     <td> </td>    \n",
       "</tr>\n",
       "</table>\n",
       "<table class=\"simpletable\">\n",
       "<tr>\n",
       "    <td></td>       <th>coef</th>     <th>std err</th>      <th>t</th>      <th>P>|t|</th>  <th>[0.025</th>    <th>0.975]</th>  \n",
       "</tr>\n",
       "<tr>\n",
       "  <th>const</th> <td> 8440.9881</td> <td>   64.352</td> <td>  131.169</td> <td> 0.000</td> <td> 8314.818</td> <td> 8567.158</td>\n",
       "</tr>\n",
       "<tr>\n",
       "  <th>x1</th>    <td> 2078.1322</td> <td>   67.641</td> <td>   30.723</td> <td> 0.000</td> <td> 1945.514</td> <td> 2210.750</td>\n",
       "</tr>\n",
       "<tr>\n",
       "  <th>x2</th>    <td> 4366.0642</td> <td>   67.756</td> <td>   64.438</td> <td> 0.000</td> <td> 4233.221</td> <td> 4498.908</td>\n",
       "</tr>\n",
       "<tr>\n",
       "  <th>x3</th>    <td>  -87.7350</td> <td>   64.163</td> <td>   -1.367</td> <td> 0.172</td> <td> -213.533</td> <td>   38.063</td>\n",
       "</tr>\n",
       "<tr>\n",
       "  <th>x4</th>    <td>   51.2599</td> <td>   64.318</td> <td>    0.797</td> <td> 0.426</td> <td>  -74.843</td> <td>  177.362</td>\n",
       "</tr>\n",
       "<tr>\n",
       "  <th>x5</th>    <td>  926.5868</td> <td>   55.176</td> <td>   16.793</td> <td> 0.000</td> <td>  818.407</td> <td> 1034.766</td>\n",
       "</tr>\n",
       "<tr>\n",
       "  <th>x6</th>    <td>  290.4591</td> <td>   55.746</td> <td>    5.210</td> <td> 0.000</td> <td>  181.163</td> <td>  399.755</td>\n",
       "</tr>\n",
       "<tr>\n",
       "  <th>x7</th>    <td>  -74.4662</td> <td>   63.887</td> <td>   -1.166</td> <td> 0.244</td> <td> -199.724</td> <td>   50.792</td>\n",
       "</tr>\n",
       "<tr>\n",
       "  <th>x8</th>    <td> -622.9828</td> <td>   47.788</td> <td>  -13.036</td> <td> 0.000</td> <td> -716.678</td> <td> -529.288</td>\n",
       "</tr>\n",
       "<tr>\n",
       "  <th>x9</th>    <td> -313.1394</td> <td>   40.612</td> <td>   -7.710</td> <td> 0.000</td> <td> -392.765</td> <td> -233.514</td>\n",
       "</tr>\n",
       "<tr>\n",
       "  <th>x10</th>   <td>  313.5206</td> <td>   62.802</td> <td>    4.992</td> <td> 0.000</td> <td>  190.390</td> <td>  436.651</td>\n",
       "</tr>\n",
       "</table>\n",
       "<table class=\"simpletable\">\n",
       "<tr>\n",
       "  <th>Omnibus:</th>       <td>1034.086</td> <th>  Durbin-Watson:     </th> <td>   1.967</td>\n",
       "</tr>\n",
       "<tr>\n",
       "  <th>Prob(Omnibus):</th>  <td> 0.000</td>  <th>  Jarque-Bera (JB):  </th> <td>4971.682</td>\n",
       "</tr>\n",
       "<tr>\n",
       "  <th>Skew:</th>           <td> 1.294</td>  <th>  Prob(JB):          </th> <td>    0.00</td>\n",
       "</tr>\n",
       "<tr>\n",
       "  <th>Kurtosis:</th>       <td> 8.128</td>  <th>  Cond. No.          </th> <td>6.57e+15</td>\n",
       "</tr>\n",
       "</table><br/><br/>Warnings:<br/>[1] Standard Errors assume that the covariance matrix of the errors is correctly specified.<br/>[2] The smallest eigenvalue is 1.38e-28. This might indicate that there are<br/>strong multicollinearity problems or that the design matrix is singular."
      ],
      "text/plain": [
       "<class 'statsmodels.iolib.summary.Summary'>\n",
       "\"\"\"\n",
       "                            OLS Regression Results                            \n",
       "==============================================================================\n",
       "Dep. Variable:           price_dollar   R-squared:                       0.658\n",
       "Model:                            OLS   Adj. R-squared:                  0.658\n",
       "Method:                 Least Squares   F-statistic:                     772.7\n",
       "Date:                Fri, 04 Sep 2020   Prob (F-statistic):               0.00\n",
       "Time:                        19:10:34   Log-Likelihood:                -35008.\n",
       "No. Observations:                3617   AIC:                         7.004e+04\n",
       "Df Residuals:                    3607   BIC:                         7.010e+04\n",
       "Df Model:                           9                                         \n",
       "Covariance Type:            nonrobust                                         \n",
       "==============================================================================\n",
       "                 coef    std err          t      P>|t|      [0.025      0.975]\n",
       "------------------------------------------------------------------------------\n",
       "const       8440.9881     64.352    131.169      0.000    8314.818    8567.158\n",
       "x1          2078.1322     67.641     30.723      0.000    1945.514    2210.750\n",
       "x2          4366.0642     67.756     64.438      0.000    4233.221    4498.908\n",
       "x3           -87.7350     64.163     -1.367      0.172    -213.533      38.063\n",
       "x4            51.2599     64.318      0.797      0.426     -74.843     177.362\n",
       "x5           926.5868     55.176     16.793      0.000     818.407    1034.766\n",
       "x6           290.4591     55.746      5.210      0.000     181.163     399.755\n",
       "x7           -74.4662     63.887     -1.166      0.244    -199.724      50.792\n",
       "x8          -622.9828     47.788    -13.036      0.000    -716.678    -529.288\n",
       "x9          -313.1394     40.612     -7.710      0.000    -392.765    -233.514\n",
       "x10          313.5206     62.802      4.992      0.000     190.390     436.651\n",
       "==============================================================================\n",
       "Omnibus:                     1034.086   Durbin-Watson:                   1.967\n",
       "Prob(Omnibus):                  0.000   Jarque-Bera (JB):             4971.682\n",
       "Skew:                           1.294   Prob(JB):                         0.00\n",
       "Kurtosis:                       8.128   Cond. No.                     6.57e+15\n",
       "==============================================================================\n",
       "\n",
       "Warnings:\n",
       "[1] Standard Errors assume that the covariance matrix of the errors is correctly specified.\n",
       "[2] The smallest eigenvalue is 1.38e-28. This might indicate that there are\n",
       "strong multicollinearity problems or that the design matrix is singular.\n",
       "\"\"\""
      ]
     },
     "execution_count": 90,
     "metadata": {},
     "output_type": "execute_result"
    }
   ],
   "source": [
    "X2 = autos_bmw.iloc[:,1:]\n",
    "y2 = autos_bmw.iloc[:,0]\n",
    "\n",
    "X2 = scale.fit_transform(X2.as_matrix())\n",
    "X2 = sm.add_constant(X2)\n",
    "\n",
    "est_bmw = sm.OLS(y2, X2).fit()\n",
    "\n",
    "est_bmw.summary()"
   ]
  },
  {
   "cell_type": "code",
   "execution_count": 99,
   "metadata": {
    "scrolled": false
   },
   "outputs": [
    {
     "name": "stderr",
     "output_type": "stream",
     "text": [
      "C:\\Users\\kuanw\\anaconda\\lib\\site-packages\\ipykernel_launcher.py:4: FutureWarning: Method .as_matrix will be removed in a future version. Use .values instead.\n",
      "  after removing the cwd from sys.path.\n"
     ]
    },
    {
     "data": {
      "text/html": [
       "<table class=\"simpletable\">\n",
       "<caption>OLS Regression Results</caption>\n",
       "<tr>\n",
       "  <th>Dep. Variable:</th>      <td>price_dollar</td>   <th>  R-squared:         </th> <td>   0.545</td> \n",
       "</tr>\n",
       "<tr>\n",
       "  <th>Model:</th>                   <td>OLS</td>       <th>  Adj. R-squared:    </th> <td>   0.543</td> \n",
       "</tr>\n",
       "<tr>\n",
       "  <th>Method:</th>             <td>Least Squares</td>  <th>  F-statistic:       </th> <td>   397.3</td> \n",
       "</tr>\n",
       "<tr>\n",
       "  <th>Date:</th>             <td>Fri, 04 Sep 2020</td> <th>  Prob (F-statistic):</th>  <td>  0.00</td>  \n",
       "</tr>\n",
       "<tr>\n",
       "  <th>Time:</th>                 <td>19:26:03</td>     <th>  Log-Likelihood:    </th> <td> -29692.</td> \n",
       "</tr>\n",
       "<tr>\n",
       "  <th>No. Observations:</th>      <td>  3000</td>      <th>  AIC:               </th> <td>5.940e+04</td>\n",
       "</tr>\n",
       "<tr>\n",
       "  <th>Df Residuals:</th>          <td>  2990</td>      <th>  BIC:               </th> <td>5.946e+04</td>\n",
       "</tr>\n",
       "<tr>\n",
       "  <th>Df Model:</th>              <td>     9</td>      <th>                     </th>     <td> </td>    \n",
       "</tr>\n",
       "<tr>\n",
       "  <th>Covariance Type:</th>      <td>nonrobust</td>    <th>                     </th>     <td> </td>    \n",
       "</tr>\n",
       "</table>\n",
       "<table class=\"simpletable\">\n",
       "<tr>\n",
       "    <td></td>       <th>coef</th>     <th>std err</th>      <th>t</th>      <th>P>|t|</th>  <th>[0.025</th>    <th>0.975]</th>  \n",
       "</tr>\n",
       "<tr>\n",
       "  <th>const</th> <td> 8412.8260</td> <td>   87.957</td> <td>   95.647</td> <td> 0.000</td> <td> 8240.364</td> <td> 8585.288</td>\n",
       "</tr>\n",
       "<tr>\n",
       "  <th>x1</th>    <td> 2120.2896</td> <td>   98.686</td> <td>   21.485</td> <td> 0.000</td> <td> 1926.791</td> <td> 2313.789</td>\n",
       "</tr>\n",
       "<tr>\n",
       "  <th>x2</th>    <td> 3959.3986</td> <td>   92.955</td> <td>   42.595</td> <td> 0.000</td> <td> 3777.137</td> <td> 4141.660</td>\n",
       "</tr>\n",
       "<tr>\n",
       "  <th>x3</th>    <td>   -0.8225</td> <td>   87.640</td> <td>   -0.009</td> <td> 0.993</td> <td> -172.664</td> <td>  171.019</td>\n",
       "</tr>\n",
       "<tr>\n",
       "  <th>x4</th>    <td>  106.4217</td> <td>   82.100</td> <td>    1.296</td> <td> 0.195</td> <td>  -54.557</td> <td>  267.401</td>\n",
       "</tr>\n",
       "<tr>\n",
       "  <th>x5</th>    <td> 1044.8354</td> <td>   80.525</td> <td>   12.975</td> <td> 0.000</td> <td>  886.946</td> <td> 1202.725</td>\n",
       "</tr>\n",
       "<tr>\n",
       "  <th>x6</th>    <td>  -40.6304</td> <td>   78.627</td> <td>   -0.517</td> <td> 0.605</td> <td> -194.798</td> <td>  113.538</td>\n",
       "</tr>\n",
       "<tr>\n",
       "  <th>x7</th>    <td> -293.5244</td> <td>   87.449</td> <td>   -3.357</td> <td> 0.001</td> <td> -464.991</td> <td> -122.057</td>\n",
       "</tr>\n",
       "<tr>\n",
       "  <th>x8</th>    <td> -711.0548</td> <td>   68.588</td> <td>  -10.367</td> <td> 0.000</td> <td> -845.539</td> <td> -576.571</td>\n",
       "</tr>\n",
       "<tr>\n",
       "  <th>x9</th>    <td> -278.0357</td> <td>   60.694</td> <td>   -4.581</td> <td> 0.000</td> <td> -397.041</td> <td> -159.030</td>\n",
       "</tr>\n",
       "<tr>\n",
       "  <th>x10</th>   <td>  687.5095</td> <td>   84.141</td> <td>    8.171</td> <td> 0.000</td> <td>  522.529</td> <td>  852.490</td>\n",
       "</tr>\n",
       "</table>\n",
       "<table class=\"simpletable\">\n",
       "<tr>\n",
       "  <th>Omnibus:</th>       <td>771.593</td> <th>  Durbin-Watson:     </th> <td>   2.006</td>\n",
       "</tr>\n",
       "<tr>\n",
       "  <th>Prob(Omnibus):</th> <td> 0.000</td>  <th>  Jarque-Bera (JB):  </th> <td>1982.538</td>\n",
       "</tr>\n",
       "<tr>\n",
       "  <th>Skew:</th>          <td> 1.381</td>  <th>  Prob(JB):          </th> <td>    0.00</td>\n",
       "</tr>\n",
       "<tr>\n",
       "  <th>Kurtosis:</th>      <td> 5.870</td>  <th>  Cond. No.          </th> <td>6.53e+15</td>\n",
       "</tr>\n",
       "</table><br/><br/>Warnings:<br/>[1] Standard Errors assume that the covariance matrix of the errors is correctly specified.<br/>[2] The smallest eigenvalue is 1.21e-28. This might indicate that there are<br/>strong multicollinearity problems or that the design matrix is singular."
      ],
      "text/plain": [
       "<class 'statsmodels.iolib.summary.Summary'>\n",
       "\"\"\"\n",
       "                            OLS Regression Results                            \n",
       "==============================================================================\n",
       "Dep. Variable:           price_dollar   R-squared:                       0.545\n",
       "Model:                            OLS   Adj. R-squared:                  0.543\n",
       "Method:                 Least Squares   F-statistic:                     397.3\n",
       "Date:                Fri, 04 Sep 2020   Prob (F-statistic):               0.00\n",
       "Time:                        19:26:03   Log-Likelihood:                -29692.\n",
       "No. Observations:                3000   AIC:                         5.940e+04\n",
       "Df Residuals:                    2990   BIC:                         5.946e+04\n",
       "Df Model:                           9                                         \n",
       "Covariance Type:            nonrobust                                         \n",
       "==============================================================================\n",
       "                 coef    std err          t      P>|t|      [0.025      0.975]\n",
       "------------------------------------------------------------------------------\n",
       "const       8412.8260     87.957     95.647      0.000    8240.364    8585.288\n",
       "x1          2120.2896     98.686     21.485      0.000    1926.791    2313.789\n",
       "x2          3959.3986     92.955     42.595      0.000    3777.137    4141.660\n",
       "x3            -0.8225     87.640     -0.009      0.993    -172.664     171.019\n",
       "x4           106.4217     82.100      1.296      0.195     -54.557     267.401\n",
       "x5          1044.8354     80.525     12.975      0.000     886.946    1202.725\n",
       "x6           -40.6304     78.627     -0.517      0.605    -194.798     113.538\n",
       "x7          -293.5244     87.449     -3.357      0.001    -464.991    -122.057\n",
       "x8          -711.0548     68.588    -10.367      0.000    -845.539    -576.571\n",
       "x9          -278.0357     60.694     -4.581      0.000    -397.041    -159.030\n",
       "x10          687.5095     84.141      8.171      0.000     522.529     852.490\n",
       "==============================================================================\n",
       "Omnibus:                      771.593   Durbin-Watson:                   2.006\n",
       "Prob(Omnibus):                  0.000   Jarque-Bera (JB):             1982.538\n",
       "Skew:                           1.381   Prob(JB):                         0.00\n",
       "Kurtosis:                       5.870   Cond. No.                     6.53e+15\n",
       "==============================================================================\n",
       "\n",
       "Warnings:\n",
       "[1] Standard Errors assume that the covariance matrix of the errors is correctly specified.\n",
       "[2] The smallest eigenvalue is 1.21e-28. This might indicate that there are\n",
       "strong multicollinearity problems or that the design matrix is singular.\n",
       "\"\"\""
      ]
     },
     "execution_count": 99,
     "metadata": {},
     "output_type": "execute_result"
    }
   ],
   "source": [
    "X3 = autos_benz.iloc[:,1:]\n",
    "y3 = autos_benz.iloc[:, 0]\n",
    "\n",
    "X3 = scale.fit_transform(X3.as_matrix())\n",
    "X3 = sm.add_constant(X3)\n",
    "\n",
    "est_benz = sm.OLS(y3, X3).fit()\n",
    "\n",
    "est_benz.summary()"
   ]
  },
  {
   "cell_type": "markdown",
   "metadata": {},
   "source": [
    "Let's test our model by predicting prices for three brands' SUV with 120 PS and registration year of 2018:"
   ]
  },
  {
   "cell_type": "code",
   "execution_count": 100,
   "metadata": {},
   "outputs": [
    {
     "name": "stdout",
     "output_type": "stream",
     "text": [
      "The predicted price for Volkswagen is 19544 dollars\n",
      "The predicted price for BMW is 19009 dollars\n",
      "The predicted price for Benz is 19650 dollars\n"
     ]
    }
   ],
   "source": [
    "car = [120, 2018, 0, 0, 0, 0, 0, 0, 0, 1]    # SUV with 120 PS and registration year of 2018\n",
    "scaled = scale.transform([car])   # Standardization the values\n",
    "\n",
    "scaled= sm.add_constant(scaled, has_constant='add')\n",
    "predicted_vol = est_vol.predict(scaled)\n",
    "predicted_bmw = est_bmw.predict(scaled)\n",
    "predicted_benz = est_benz.predict(scaled)\n",
    "\n",
    "print(\"The predicted price for Volkswagen is {num} dollars\".format(num = int(predicted_vol)))\n",
    "print(\"The predicted price for BMW is {num} dollars\".format(num = int(predicted_bmw)))\n",
    "print(\"The predicted price for Benz is {num} dollars\".format(num = int(predicted_benz)))"
   ]
  },
  {
   "cell_type": "markdown",
   "metadata": {
    "collapsed": true
   },
   "source": [
    "From the predictive model it can be found that:\n",
    "- Both the registration year and the power have positive correlation with price.\n",
    "- The registration year has larger impact on price as compared to the power.\n",
    "- All three brands have similar model coefficients on registration year.\n",
    "- Different vehicle types have very different impact on the prices.\n",
    "- Volkswagen has a slightly lower base price, indicated by a lower constant coefficient\n",
    "- Volkswagen has significantly lower coefficient value on the power. This means that the power does not impact the price of Volswagen used cars as much as BMW and Benz used cars.\n",
    "- For a 2018 used SUV with 120 PS ([average car power](https://www.autolist.com/guides/average-car-horsepower)), the model predicts that BMW brand has the lowest price at 19009 dollars, Benz has the highest price at 19650 dollars. "
   ]
  }
 ],
 "metadata": {
  "kernelspec": {
   "display_name": "Python 3",
   "language": "python",
   "name": "python3"
  },
  "language_info": {
   "codemirror_mode": {
    "name": "ipython",
    "version": 3
   },
   "file_extension": ".py",
   "mimetype": "text/x-python",
   "name": "python",
   "nbconvert_exporter": "python",
   "pygments_lexer": "ipython3",
   "version": "3.7.4"
  }
 },
 "nbformat": 4,
 "nbformat_minor": 2
}
